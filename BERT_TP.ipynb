{
  "nbformat": 4,
  "nbformat_minor": 0,
  "metadata": {
    "colab": {
      "name": "BERT_TP.ipynb",
      "provenance": [],
      "collapsed_sections": [],
      "include_colab_link": true
    },
    "kernelspec": {
      "name": "python3",
      "display_name": "Python 3"
    },
    "accelerator": "GPU",
    "widgets": {
      "application/vnd.jupyter.widget-state+json": {
        "a57c02435283449baa31e8ca452e1357": {
          "model_module": "@jupyter-widgets/controls",
          "model_name": "HBoxModel",
          "state": {
            "_view_name": "HBoxView",
            "_dom_classes": [],
            "_model_name": "HBoxModel",
            "_view_module": "@jupyter-widgets/controls",
            "_model_module_version": "1.5.0",
            "_view_count": null,
            "_view_module_version": "1.5.0",
            "box_style": "",
            "layout": "IPY_MODEL_bf9a1eb1924e4acca36ba1ec0e6e29c5",
            "_model_module": "@jupyter-widgets/controls",
            "children": [
              "IPY_MODEL_0b77fb00c13c4f5e83827116c8933eb9",
              "IPY_MODEL_ab409df3211a4cf88fc85a4ec8cefbc1"
            ]
          }
        },
        "bf9a1eb1924e4acca36ba1ec0e6e29c5": {
          "model_module": "@jupyter-widgets/base",
          "model_name": "LayoutModel",
          "state": {
            "_view_name": "LayoutView",
            "grid_template_rows": null,
            "right": null,
            "justify_content": null,
            "_view_module": "@jupyter-widgets/base",
            "overflow": null,
            "_model_module_version": "1.2.0",
            "_view_count": null,
            "flex_flow": null,
            "width": null,
            "min_width": null,
            "border": null,
            "align_items": null,
            "bottom": null,
            "_model_module": "@jupyter-widgets/base",
            "top": null,
            "grid_column": null,
            "overflow_y": null,
            "overflow_x": null,
            "grid_auto_flow": null,
            "grid_area": null,
            "grid_template_columns": null,
            "flex": null,
            "_model_name": "LayoutModel",
            "justify_items": null,
            "grid_row": null,
            "max_height": null,
            "align_content": null,
            "visibility": null,
            "align_self": null,
            "height": null,
            "min_height": null,
            "padding": null,
            "grid_auto_rows": null,
            "grid_gap": null,
            "max_width": null,
            "order": null,
            "_view_module_version": "1.2.0",
            "grid_template_areas": null,
            "object_position": null,
            "object_fit": null,
            "grid_auto_columns": null,
            "margin": null,
            "display": null,
            "left": null
          }
        },
        "0b77fb00c13c4f5e83827116c8933eb9": {
          "model_module": "@jupyter-widgets/controls",
          "model_name": "IntProgressModel",
          "state": {
            "_view_name": "ProgressView",
            "style": "IPY_MODEL_975bea5adeaa438e89823bc732c95247",
            "_dom_classes": [],
            "description": "Downloading: 100%",
            "_model_name": "IntProgressModel",
            "bar_style": "success",
            "max": 231508,
            "_view_module": "@jupyter-widgets/controls",
            "_model_module_version": "1.5.0",
            "value": 231508,
            "_view_count": null,
            "_view_module_version": "1.5.0",
            "orientation": "horizontal",
            "min": 0,
            "description_tooltip": null,
            "_model_module": "@jupyter-widgets/controls",
            "layout": "IPY_MODEL_322640d18888462ca6484923cae1ea2f"
          }
        },
        "ab409df3211a4cf88fc85a4ec8cefbc1": {
          "model_module": "@jupyter-widgets/controls",
          "model_name": "HTMLModel",
          "state": {
            "_view_name": "HTMLView",
            "style": "IPY_MODEL_003ef1e1eee14e99a655c6ed5a32bfaa",
            "_dom_classes": [],
            "description": "",
            "_model_name": "HTMLModel",
            "placeholder": "​",
            "_view_module": "@jupyter-widgets/controls",
            "_model_module_version": "1.5.0",
            "value": " 232k/232k [00:00&lt;00:00, 375kB/s]",
            "_view_count": null,
            "_view_module_version": "1.5.0",
            "description_tooltip": null,
            "_model_module": "@jupyter-widgets/controls",
            "layout": "IPY_MODEL_d68d52397c7d4cd9a931df65bd0b60e7"
          }
        },
        "975bea5adeaa438e89823bc732c95247": {
          "model_module": "@jupyter-widgets/controls",
          "model_name": "ProgressStyleModel",
          "state": {
            "_view_name": "StyleView",
            "_model_name": "ProgressStyleModel",
            "description_width": "initial",
            "_view_module": "@jupyter-widgets/base",
            "_model_module_version": "1.5.0",
            "_view_count": null,
            "_view_module_version": "1.2.0",
            "bar_color": null,
            "_model_module": "@jupyter-widgets/controls"
          }
        },
        "322640d18888462ca6484923cae1ea2f": {
          "model_module": "@jupyter-widgets/base",
          "model_name": "LayoutModel",
          "state": {
            "_view_name": "LayoutView",
            "grid_template_rows": null,
            "right": null,
            "justify_content": null,
            "_view_module": "@jupyter-widgets/base",
            "overflow": null,
            "_model_module_version": "1.2.0",
            "_view_count": null,
            "flex_flow": null,
            "width": null,
            "min_width": null,
            "border": null,
            "align_items": null,
            "bottom": null,
            "_model_module": "@jupyter-widgets/base",
            "top": null,
            "grid_column": null,
            "overflow_y": null,
            "overflow_x": null,
            "grid_auto_flow": null,
            "grid_area": null,
            "grid_template_columns": null,
            "flex": null,
            "_model_name": "LayoutModel",
            "justify_items": null,
            "grid_row": null,
            "max_height": null,
            "align_content": null,
            "visibility": null,
            "align_self": null,
            "height": null,
            "min_height": null,
            "padding": null,
            "grid_auto_rows": null,
            "grid_gap": null,
            "max_width": null,
            "order": null,
            "_view_module_version": "1.2.0",
            "grid_template_areas": null,
            "object_position": null,
            "object_fit": null,
            "grid_auto_columns": null,
            "margin": null,
            "display": null,
            "left": null
          }
        },
        "003ef1e1eee14e99a655c6ed5a32bfaa": {
          "model_module": "@jupyter-widgets/controls",
          "model_name": "DescriptionStyleModel",
          "state": {
            "_view_name": "StyleView",
            "_model_name": "DescriptionStyleModel",
            "description_width": "",
            "_view_module": "@jupyter-widgets/base",
            "_model_module_version": "1.5.0",
            "_view_count": null,
            "_view_module_version": "1.2.0",
            "_model_module": "@jupyter-widgets/controls"
          }
        },
        "d68d52397c7d4cd9a931df65bd0b60e7": {
          "model_module": "@jupyter-widgets/base",
          "model_name": "LayoutModel",
          "state": {
            "_view_name": "LayoutView",
            "grid_template_rows": null,
            "right": null,
            "justify_content": null,
            "_view_module": "@jupyter-widgets/base",
            "overflow": null,
            "_model_module_version": "1.2.0",
            "_view_count": null,
            "flex_flow": null,
            "width": null,
            "min_width": null,
            "border": null,
            "align_items": null,
            "bottom": null,
            "_model_module": "@jupyter-widgets/base",
            "top": null,
            "grid_column": null,
            "overflow_y": null,
            "overflow_x": null,
            "grid_auto_flow": null,
            "grid_area": null,
            "grid_template_columns": null,
            "flex": null,
            "_model_name": "LayoutModel",
            "justify_items": null,
            "grid_row": null,
            "max_height": null,
            "align_content": null,
            "visibility": null,
            "align_self": null,
            "height": null,
            "min_height": null,
            "padding": null,
            "grid_auto_rows": null,
            "grid_gap": null,
            "max_width": null,
            "order": null,
            "_view_module_version": "1.2.0",
            "grid_template_areas": null,
            "object_position": null,
            "object_fit": null,
            "grid_auto_columns": null,
            "margin": null,
            "display": null,
            "left": null
          }
        },
        "6fdc6eb061e04cadadf262f50cd52e88": {
          "model_module": "@jupyter-widgets/controls",
          "model_name": "HBoxModel",
          "state": {
            "_view_name": "HBoxView",
            "_dom_classes": [],
            "_model_name": "HBoxModel",
            "_view_module": "@jupyter-widgets/controls",
            "_model_module_version": "1.5.0",
            "_view_count": null,
            "_view_module_version": "1.5.0",
            "box_style": "",
            "layout": "IPY_MODEL_4e499031713c4f24a4923ec9f166b506",
            "_model_module": "@jupyter-widgets/controls",
            "children": [
              "IPY_MODEL_8e84b1d1383541639355c333569cde3d",
              "IPY_MODEL_d340ab0bd73f4c558f1dddec4ca123e2"
            ]
          }
        },
        "4e499031713c4f24a4923ec9f166b506": {
          "model_module": "@jupyter-widgets/base",
          "model_name": "LayoutModel",
          "state": {
            "_view_name": "LayoutView",
            "grid_template_rows": null,
            "right": null,
            "justify_content": null,
            "_view_module": "@jupyter-widgets/base",
            "overflow": null,
            "_model_module_version": "1.2.0",
            "_view_count": null,
            "flex_flow": null,
            "width": null,
            "min_width": null,
            "border": null,
            "align_items": null,
            "bottom": null,
            "_model_module": "@jupyter-widgets/base",
            "top": null,
            "grid_column": null,
            "overflow_y": null,
            "overflow_x": null,
            "grid_auto_flow": null,
            "grid_area": null,
            "grid_template_columns": null,
            "flex": null,
            "_model_name": "LayoutModel",
            "justify_items": null,
            "grid_row": null,
            "max_height": null,
            "align_content": null,
            "visibility": null,
            "align_self": null,
            "height": null,
            "min_height": null,
            "padding": null,
            "grid_auto_rows": null,
            "grid_gap": null,
            "max_width": null,
            "order": null,
            "_view_module_version": "1.2.0",
            "grid_template_areas": null,
            "object_position": null,
            "object_fit": null,
            "grid_auto_columns": null,
            "margin": null,
            "display": null,
            "left": null
          }
        },
        "8e84b1d1383541639355c333569cde3d": {
          "model_module": "@jupyter-widgets/controls",
          "model_name": "IntProgressModel",
          "state": {
            "_view_name": "ProgressView",
            "style": "IPY_MODEL_7869951a63a14185b7729409e038f9b3",
            "_dom_classes": [],
            "description": "Downloading: 100%",
            "_model_name": "IntProgressModel",
            "bar_style": "success",
            "max": 433,
            "_view_module": "@jupyter-widgets/controls",
            "_model_module_version": "1.5.0",
            "value": 433,
            "_view_count": null,
            "_view_module_version": "1.5.0",
            "orientation": "horizontal",
            "min": 0,
            "description_tooltip": null,
            "_model_module": "@jupyter-widgets/controls",
            "layout": "IPY_MODEL_9a50a35694834b43aae093e9467d2008"
          }
        },
        "d340ab0bd73f4c558f1dddec4ca123e2": {
          "model_module": "@jupyter-widgets/controls",
          "model_name": "HTMLModel",
          "state": {
            "_view_name": "HTMLView",
            "style": "IPY_MODEL_58d0d91bfac44a82b97f18bcc2ba26a8",
            "_dom_classes": [],
            "description": "",
            "_model_name": "HTMLModel",
            "placeholder": "​",
            "_view_module": "@jupyter-widgets/controls",
            "_model_module_version": "1.5.0",
            "value": " 433/433 [00:35&lt;00:00, 12.2B/s]",
            "_view_count": null,
            "_view_module_version": "1.5.0",
            "description_tooltip": null,
            "_model_module": "@jupyter-widgets/controls",
            "layout": "IPY_MODEL_13a5370669e04b21adf1b45b1deef473"
          }
        },
        "7869951a63a14185b7729409e038f9b3": {
          "model_module": "@jupyter-widgets/controls",
          "model_name": "ProgressStyleModel",
          "state": {
            "_view_name": "StyleView",
            "_model_name": "ProgressStyleModel",
            "description_width": "initial",
            "_view_module": "@jupyter-widgets/base",
            "_model_module_version": "1.5.0",
            "_view_count": null,
            "_view_module_version": "1.2.0",
            "bar_color": null,
            "_model_module": "@jupyter-widgets/controls"
          }
        },
        "9a50a35694834b43aae093e9467d2008": {
          "model_module": "@jupyter-widgets/base",
          "model_name": "LayoutModel",
          "state": {
            "_view_name": "LayoutView",
            "grid_template_rows": null,
            "right": null,
            "justify_content": null,
            "_view_module": "@jupyter-widgets/base",
            "overflow": null,
            "_model_module_version": "1.2.0",
            "_view_count": null,
            "flex_flow": null,
            "width": null,
            "min_width": null,
            "border": null,
            "align_items": null,
            "bottom": null,
            "_model_module": "@jupyter-widgets/base",
            "top": null,
            "grid_column": null,
            "overflow_y": null,
            "overflow_x": null,
            "grid_auto_flow": null,
            "grid_area": null,
            "grid_template_columns": null,
            "flex": null,
            "_model_name": "LayoutModel",
            "justify_items": null,
            "grid_row": null,
            "max_height": null,
            "align_content": null,
            "visibility": null,
            "align_self": null,
            "height": null,
            "min_height": null,
            "padding": null,
            "grid_auto_rows": null,
            "grid_gap": null,
            "max_width": null,
            "order": null,
            "_view_module_version": "1.2.0",
            "grid_template_areas": null,
            "object_position": null,
            "object_fit": null,
            "grid_auto_columns": null,
            "margin": null,
            "display": null,
            "left": null
          }
        },
        "58d0d91bfac44a82b97f18bcc2ba26a8": {
          "model_module": "@jupyter-widgets/controls",
          "model_name": "DescriptionStyleModel",
          "state": {
            "_view_name": "StyleView",
            "_model_name": "DescriptionStyleModel",
            "description_width": "",
            "_view_module": "@jupyter-widgets/base",
            "_model_module_version": "1.5.0",
            "_view_count": null,
            "_view_module_version": "1.2.0",
            "_model_module": "@jupyter-widgets/controls"
          }
        },
        "13a5370669e04b21adf1b45b1deef473": {
          "model_module": "@jupyter-widgets/base",
          "model_name": "LayoutModel",
          "state": {
            "_view_name": "LayoutView",
            "grid_template_rows": null,
            "right": null,
            "justify_content": null,
            "_view_module": "@jupyter-widgets/base",
            "overflow": null,
            "_model_module_version": "1.2.0",
            "_view_count": null,
            "flex_flow": null,
            "width": null,
            "min_width": null,
            "border": null,
            "align_items": null,
            "bottom": null,
            "_model_module": "@jupyter-widgets/base",
            "top": null,
            "grid_column": null,
            "overflow_y": null,
            "overflow_x": null,
            "grid_auto_flow": null,
            "grid_area": null,
            "grid_template_columns": null,
            "flex": null,
            "_model_name": "LayoutModel",
            "justify_items": null,
            "grid_row": null,
            "max_height": null,
            "align_content": null,
            "visibility": null,
            "align_self": null,
            "height": null,
            "min_height": null,
            "padding": null,
            "grid_auto_rows": null,
            "grid_gap": null,
            "max_width": null,
            "order": null,
            "_view_module_version": "1.2.0",
            "grid_template_areas": null,
            "object_position": null,
            "object_fit": null,
            "grid_auto_columns": null,
            "margin": null,
            "display": null,
            "left": null
          }
        },
        "bad4aef604ae49008b528e0e54d97eb5": {
          "model_module": "@jupyter-widgets/controls",
          "model_name": "HBoxModel",
          "state": {
            "_view_name": "HBoxView",
            "_dom_classes": [],
            "_model_name": "HBoxModel",
            "_view_module": "@jupyter-widgets/controls",
            "_model_module_version": "1.5.0",
            "_view_count": null,
            "_view_module_version": "1.5.0",
            "box_style": "",
            "layout": "IPY_MODEL_9c29335267324e858b5af36f6dabd58f",
            "_model_module": "@jupyter-widgets/controls",
            "children": [
              "IPY_MODEL_d26bf442580b4091ad59ba89bc5eff96",
              "IPY_MODEL_167872aae0784716bc9ffed6bd165b6c"
            ]
          }
        },
        "9c29335267324e858b5af36f6dabd58f": {
          "model_module": "@jupyter-widgets/base",
          "model_name": "LayoutModel",
          "state": {
            "_view_name": "LayoutView",
            "grid_template_rows": null,
            "right": null,
            "justify_content": null,
            "_view_module": "@jupyter-widgets/base",
            "overflow": null,
            "_model_module_version": "1.2.0",
            "_view_count": null,
            "flex_flow": null,
            "width": null,
            "min_width": null,
            "border": null,
            "align_items": null,
            "bottom": null,
            "_model_module": "@jupyter-widgets/base",
            "top": null,
            "grid_column": null,
            "overflow_y": null,
            "overflow_x": null,
            "grid_auto_flow": null,
            "grid_area": null,
            "grid_template_columns": null,
            "flex": null,
            "_model_name": "LayoutModel",
            "justify_items": null,
            "grid_row": null,
            "max_height": null,
            "align_content": null,
            "visibility": null,
            "align_self": null,
            "height": null,
            "min_height": null,
            "padding": null,
            "grid_auto_rows": null,
            "grid_gap": null,
            "max_width": null,
            "order": null,
            "_view_module_version": "1.2.0",
            "grid_template_areas": null,
            "object_position": null,
            "object_fit": null,
            "grid_auto_columns": null,
            "margin": null,
            "display": null,
            "left": null
          }
        },
        "d26bf442580b4091ad59ba89bc5eff96": {
          "model_module": "@jupyter-widgets/controls",
          "model_name": "IntProgressModel",
          "state": {
            "_view_name": "ProgressView",
            "style": "IPY_MODEL_5d2c9b6d46474ebeaed31404dcc7753d",
            "_dom_classes": [],
            "description": "Downloading: 100%",
            "_model_name": "IntProgressModel",
            "bar_style": "success",
            "max": 440473133,
            "_view_module": "@jupyter-widgets/controls",
            "_model_module_version": "1.5.0",
            "value": 440473133,
            "_view_count": null,
            "_view_module_version": "1.5.0",
            "orientation": "horizontal",
            "min": 0,
            "description_tooltip": null,
            "_model_module": "@jupyter-widgets/controls",
            "layout": "IPY_MODEL_5f3076df09c94077aab1893f77f72c36"
          }
        },
        "167872aae0784716bc9ffed6bd165b6c": {
          "model_module": "@jupyter-widgets/controls",
          "model_name": "HTMLModel",
          "state": {
            "_view_name": "HTMLView",
            "style": "IPY_MODEL_2aa17d2968a0467cb445acf0bebfd513",
            "_dom_classes": [],
            "description": "",
            "_model_name": "HTMLModel",
            "placeholder": "​",
            "_view_module": "@jupyter-widgets/controls",
            "_model_module_version": "1.5.0",
            "value": " 440M/440M [00:33&lt;00:00, 13.0MB/s]",
            "_view_count": null,
            "_view_module_version": "1.5.0",
            "description_tooltip": null,
            "_model_module": "@jupyter-widgets/controls",
            "layout": "IPY_MODEL_5f2c6284223e482a8e7ce0da097994ff"
          }
        },
        "5d2c9b6d46474ebeaed31404dcc7753d": {
          "model_module": "@jupyter-widgets/controls",
          "model_name": "ProgressStyleModel",
          "state": {
            "_view_name": "StyleView",
            "_model_name": "ProgressStyleModel",
            "description_width": "initial",
            "_view_module": "@jupyter-widgets/base",
            "_model_module_version": "1.5.0",
            "_view_count": null,
            "_view_module_version": "1.2.0",
            "bar_color": null,
            "_model_module": "@jupyter-widgets/controls"
          }
        },
        "5f3076df09c94077aab1893f77f72c36": {
          "model_module": "@jupyter-widgets/base",
          "model_name": "LayoutModel",
          "state": {
            "_view_name": "LayoutView",
            "grid_template_rows": null,
            "right": null,
            "justify_content": null,
            "_view_module": "@jupyter-widgets/base",
            "overflow": null,
            "_model_module_version": "1.2.0",
            "_view_count": null,
            "flex_flow": null,
            "width": null,
            "min_width": null,
            "border": null,
            "align_items": null,
            "bottom": null,
            "_model_module": "@jupyter-widgets/base",
            "top": null,
            "grid_column": null,
            "overflow_y": null,
            "overflow_x": null,
            "grid_auto_flow": null,
            "grid_area": null,
            "grid_template_columns": null,
            "flex": null,
            "_model_name": "LayoutModel",
            "justify_items": null,
            "grid_row": null,
            "max_height": null,
            "align_content": null,
            "visibility": null,
            "align_self": null,
            "height": null,
            "min_height": null,
            "padding": null,
            "grid_auto_rows": null,
            "grid_gap": null,
            "max_width": null,
            "order": null,
            "_view_module_version": "1.2.0",
            "grid_template_areas": null,
            "object_position": null,
            "object_fit": null,
            "grid_auto_columns": null,
            "margin": null,
            "display": null,
            "left": null
          }
        },
        "2aa17d2968a0467cb445acf0bebfd513": {
          "model_module": "@jupyter-widgets/controls",
          "model_name": "DescriptionStyleModel",
          "state": {
            "_view_name": "StyleView",
            "_model_name": "DescriptionStyleModel",
            "description_width": "",
            "_view_module": "@jupyter-widgets/base",
            "_model_module_version": "1.5.0",
            "_view_count": null,
            "_view_module_version": "1.2.0",
            "_model_module": "@jupyter-widgets/controls"
          }
        },
        "5f2c6284223e482a8e7ce0da097994ff": {
          "model_module": "@jupyter-widgets/base",
          "model_name": "LayoutModel",
          "state": {
            "_view_name": "LayoutView",
            "grid_template_rows": null,
            "right": null,
            "justify_content": null,
            "_view_module": "@jupyter-widgets/base",
            "overflow": null,
            "_model_module_version": "1.2.0",
            "_view_count": null,
            "flex_flow": null,
            "width": null,
            "min_width": null,
            "border": null,
            "align_items": null,
            "bottom": null,
            "_model_module": "@jupyter-widgets/base",
            "top": null,
            "grid_column": null,
            "overflow_y": null,
            "overflow_x": null,
            "grid_auto_flow": null,
            "grid_area": null,
            "grid_template_columns": null,
            "flex": null,
            "_model_name": "LayoutModel",
            "justify_items": null,
            "grid_row": null,
            "max_height": null,
            "align_content": null,
            "visibility": null,
            "align_self": null,
            "height": null,
            "min_height": null,
            "padding": null,
            "grid_auto_rows": null,
            "grid_gap": null,
            "max_width": null,
            "order": null,
            "_view_module_version": "1.2.0",
            "grid_template_areas": null,
            "object_position": null,
            "object_fit": null,
            "grid_auto_columns": null,
            "margin": null,
            "display": null,
            "left": null
          }
        }
      }
    }
  },
  "cells": [
    {
      "cell_type": "markdown",
      "metadata": {
        "id": "view-in-github",
        "colab_type": "text"
      },
      "source": [
        "<a href=\"https://colab.research.google.com/github/Aman-1708/Topic_Modelling/blob/master/BERT_TP.ipynb\" target=\"_parent\"><img src=\"https://colab.research.google.com/assets/colab-badge.svg\" alt=\"Open In Colab\"/></a>"
      ]
    },
    {
      "cell_type": "code",
      "metadata": {
        "id": "MlnZIST-hBI4",
        "colab_type": "code",
        "outputId": "9a4e96bd-ad15-4697-99d4-746eb7443306",
        "colab": {
          "base_uri": "https://localhost:8080/",
          "height": 141
        }
      },
      "source": [
        "#!pip install beautifulsoup4\n",
        "#!pip install requests\n",
        "#!pip install gensim\n",
        "#pip install --upgrade setuptools\n",
        "#!pip install pyLDAvis\n",
        "#!pip install nltk.tokenize\n",
        "\n",
        "import pandas as pd\n",
        "import nltk; nltk.download('stopwords')\n",
        "import gensim\n",
        "import re\n",
        "import numpy as np\n",
        "from pprint import pprint\n",
        "import string\n",
        "nltk.download('wordnet')\n",
        "#import pyLDAvis\n",
        "#import pyLDAvis.sklearn\n",
        "from sklearn.decomposition import LatentDirichletAllocation, TruncatedSVD\n",
        "from sklearn.feature_extraction.text import CountVectorizer, TfidfVectorizer\n",
        "from sklearn.model_selection import GridSearchCV\n",
        "from nltk.stem.wordnet import WordNetLemmatizer\n",
        "from nltk import PorterStemmer\n",
        "from nltk.corpus import stopwords\n",
        "from nltk.tokenize import RegexpTokenizer \n",
        "import string\n",
        "\n",
        "# Gensim\n",
        "import gensim\n",
        "import gensim.corpora as corpora\n",
        "from gensim.utils import simple_preprocess\n",
        "from gensim.models import CoherenceModel\n",
        "from sklearn.feature_extraction.text import CountVectorizer;\n",
        "from tqdm import tqdm\n",
        "import string\n",
        "import matplotlib.pyplot as plt\n",
        "from sklearn.decomposition import NMF, LatentDirichletAllocation, TruncatedSVD\n",
        "from sklearn.feature_extraction.text import CountVectorizer\n",
        "from sklearn.manifold import TSNE\n",
        "import concurrent.futures\n",
        "import time\n",
        "#import pyLDAvis.sklearn\n",
        "from pylab import bone, pcolor, colorbar, plot, show, rcParams, savefig\n",
        "import seaborn as sns\n",
        "import random\n",
        "import scipy.stats as stats\n",
        "from scipy.stats import chi2_contingency\n",
        "import sklearn.metrics as metrics\n",
        "import requests \n",
        "from bs4 import BeautifulSoup\n",
        "from urllib.parse import urlparse, urljoin\n",
        "#import colorama\n",
        "import re\n",
        "import scipy\n",
        "from collections import Counter\n",
        "from time import time\n",
        "%matplotlib inline\n",
        "\n",
        "import torch\n",
        "\n",
        "import warnings\n",
        "warnings.filterwarnings(\"ignore\");"
      ],
      "execution_count": 1,
      "outputs": [
        {
          "output_type": "stream",
          "text": [
            "[nltk_data] Downloading package stopwords to /root/nltk_data...\n",
            "[nltk_data]   Unzipping corpora/stopwords.zip.\n",
            "[nltk_data] Downloading package wordnet to /root/nltk_data...\n",
            "[nltk_data]   Unzipping corpora/wordnet.zip.\n"
          ],
          "name": "stdout"
        },
        {
          "output_type": "stream",
          "text": [
            "/usr/local/lib/python3.6/dist-packages/statsmodels/tools/_testing.py:19: FutureWarning: pandas.util.testing is deprecated. Use the functions in the public API at pandas.testing instead.\n",
            "  import pandas.util.testing as tm\n"
          ],
          "name": "stderr"
        }
      ]
    },
    {
      "cell_type": "code",
      "metadata": {
        "id": "_12aKspVYnH4",
        "colab_type": "code",
        "colab": {
          "base_uri": "https://localhost:8080/",
          "height": 1000
        },
        "outputId": "2175f7df-adbb-46c1-9173-fd321b20d72d"
      },
      "source": [
        "pip install --upgrade git+https://github.com/flairNLP/flair.git"
      ],
      "execution_count": 2,
      "outputs": [
        {
          "output_type": "stream",
          "text": [
            "Collecting git+https://github.com/flairNLP/flair.git\n",
            "  Cloning https://github.com/flairNLP/flair.git to /tmp/pip-req-build-a8u7y58i\n",
            "  Running command git clone -q https://github.com/flairNLP/flair.git /tmp/pip-req-build-a8u7y58i\n",
            "  Installing build dependencies ... \u001b[?25l\u001b[?25hdone\n",
            "  Getting requirements to build wheel ... \u001b[?25l\u001b[?25hdone\n",
            "    Preparing wheel metadata ... \u001b[?25l\u001b[?25hdone\n",
            "Collecting segtok>=1.5.7\n",
            "  Downloading https://files.pythonhosted.org/packages/b6/11/2826bd2c3dc3b3ad20315620cecb27825d70b5a46ad186bf7c1493b46334/segtok-1.5.9.tar.gz\n",
            "Collecting sqlitedict>=1.6.0\n",
            "  Downloading https://files.pythonhosted.org/packages/0f/1c/c757b93147a219cf1e25cef7e1ad9b595b7f802159493c45ce116521caff/sqlitedict-1.6.0.tar.gz\n",
            "Collecting transformers>=2.6.0\n",
            "\u001b[?25l  Downloading https://files.pythonhosted.org/packages/a3/78/92cedda05552398352ed9784908b834ee32a0bd071a9b32de287327370b7/transformers-2.8.0-py3-none-any.whl (563kB)\n",
            "\u001b[K     |████████████████████████████████| 573kB 8.0MB/s \n",
            "\u001b[?25hRequirement already satisfied, skipping upgrade: tqdm>=4.26.0 in /usr/local/lib/python3.6/dist-packages (from flair==0.4.5) (4.38.0)\n",
            "Collecting mpld3==0.3\n",
            "\u001b[?25l  Downloading https://files.pythonhosted.org/packages/91/95/a52d3a83d0a29ba0d6898f6727e9858fe7a43f6c2ce81a5fe7e05f0f4912/mpld3-0.3.tar.gz (788kB)\n",
            "\u001b[K     |████████████████████████████████| 798kB 43.5MB/s \n",
            "\u001b[?25hRequirement already satisfied, skipping upgrade: gensim>=3.4.0 in /usr/local/lib/python3.6/dist-packages (from flair==0.4.5) (3.6.0)\n",
            "Requirement already satisfied, skipping upgrade: tabulate in /usr/local/lib/python3.6/dist-packages (from flair==0.4.5) (0.8.7)\n",
            "Requirement already satisfied, skipping upgrade: torch>=1.1.0 in /usr/local/lib/python3.6/dist-packages (from flair==0.4.5) (1.5.0+cu101)\n",
            "Collecting deprecated>=1.2.4\n",
            "  Downloading https://files.pythonhosted.org/packages/2b/ae/1f02f68eaa4aa878f184b2adc20a1923becb80a4da6c76efa33450011902/Deprecated-1.2.9-py2.py3-none-any.whl\n",
            "Collecting bpemb>=0.2.9\n",
            "  Downloading https://files.pythonhosted.org/packages/bc/70/468a9652095b370f797ed37ff77e742b11565c6fd79eaeca5f2e50b164a7/bpemb-0.3.0-py3-none-any.whl\n",
            "Collecting langdetect\n",
            "\u001b[?25l  Downloading https://files.pythonhosted.org/packages/56/a3/8407c1e62d5980188b4acc45ef3d94b933d14a2ebc9ef3505f22cf772570/langdetect-1.0.8.tar.gz (981kB)\n",
            "\u001b[K     |████████████████████████████████| 983kB 39.7MB/s \n",
            "\u001b[?25hRequirement already satisfied, skipping upgrade: python-dateutil>=2.6.1 in /usr/local/lib/python3.6/dist-packages (from flair==0.4.5) (2.8.1)\n",
            "Requirement already satisfied, skipping upgrade: hyperopt>=0.1.1 in /usr/local/lib/python3.6/dist-packages (from flair==0.4.5) (0.1.2)\n",
            "Requirement already satisfied, skipping upgrade: regex in /usr/local/lib/python3.6/dist-packages (from flair==0.4.5) (2019.12.20)\n",
            "Requirement already satisfied, skipping upgrade: matplotlib>=2.2.3 in /usr/local/lib/python3.6/dist-packages (from flair==0.4.5) (3.2.1)\n",
            "Requirement already satisfied, skipping upgrade: scikit-learn>=0.21.3 in /usr/local/lib/python3.6/dist-packages (from flair==0.4.5) (0.22.2.post1)\n",
            "Collecting pytest>=5.3.2\n",
            "\u001b[?25l  Downloading https://files.pythonhosted.org/packages/c7/e2/c19c667f42f72716a7d03e8dd4d6f63f47d39feadd44cc1ee7ca3089862c/pytest-5.4.1-py3-none-any.whl (246kB)\n",
            "\u001b[K     |████████████████████████████████| 256kB 36.8MB/s \n",
            "\u001b[?25hRequirement already satisfied, skipping upgrade: dataclasses; python_version < \"3.7\" in /usr/local/lib/python3.6/dist-packages (from transformers>=2.6.0->flair==0.4.5) (0.7)\n",
            "Collecting tokenizers==0.5.2\n",
            "\u001b[?25l  Downloading https://files.pythonhosted.org/packages/d1/3f/73c881ea4723e43c1e9acf317cf407fab3a278daab3a69c98dcac511c04f/tokenizers-0.5.2-cp36-cp36m-manylinux1_x86_64.whl (3.7MB)\n",
            "\u001b[K     |████████████████████████████████| 3.7MB 37.6MB/s \n",
            "\u001b[?25hCollecting sentencepiece\n",
            "\u001b[?25l  Downloading https://files.pythonhosted.org/packages/98/2c/8df20f3ac6c22ac224fff307ebc102818206c53fc454ecd37d8ac2060df5/sentencepiece-0.1.86-cp36-cp36m-manylinux1_x86_64.whl (1.0MB)\n",
            "\u001b[K     |████████████████████████████████| 1.0MB 42.3MB/s \n",
            "\u001b[?25hRequirement already satisfied, skipping upgrade: numpy in /usr/local/lib/python3.6/dist-packages (from transformers>=2.6.0->flair==0.4.5) (1.18.3)\n",
            "Collecting sacremoses\n",
            "\u001b[?25l  Downloading https://files.pythonhosted.org/packages/99/50/93509f906a40bffd7d175f97fd75ea328ad9bd91f48f59c4bd084c94a25e/sacremoses-0.0.41.tar.gz (883kB)\n",
            "\u001b[K     |████████████████████████████████| 890kB 41.7MB/s \n",
            "\u001b[?25hRequirement already satisfied, skipping upgrade: boto3 in /usr/local/lib/python3.6/dist-packages (from transformers>=2.6.0->flair==0.4.5) (1.12.47)\n",
            "Requirement already satisfied, skipping upgrade: filelock in /usr/local/lib/python3.6/dist-packages (from transformers>=2.6.0->flair==0.4.5) (3.0.12)\n",
            "Requirement already satisfied, skipping upgrade: requests in /usr/local/lib/python3.6/dist-packages (from transformers>=2.6.0->flair==0.4.5) (2.23.0)\n",
            "Requirement already satisfied, skipping upgrade: scipy>=0.18.1 in /usr/local/lib/python3.6/dist-packages (from gensim>=3.4.0->flair==0.4.5) (1.4.1)\n",
            "Requirement already satisfied, skipping upgrade: six>=1.5.0 in /usr/local/lib/python3.6/dist-packages (from gensim>=3.4.0->flair==0.4.5) (1.12.0)\n",
            "Requirement already satisfied, skipping upgrade: smart-open>=1.2.1 in /usr/local/lib/python3.6/dist-packages (from gensim>=3.4.0->flair==0.4.5) (1.11.1)\n",
            "Requirement already satisfied, skipping upgrade: future in /usr/local/lib/python3.6/dist-packages (from torch>=1.1.0->flair==0.4.5) (0.16.0)\n",
            "Requirement already satisfied, skipping upgrade: wrapt<2,>=1.10 in /usr/local/lib/python3.6/dist-packages (from deprecated>=1.2.4->flair==0.4.5) (1.12.1)\n",
            "Requirement already satisfied, skipping upgrade: networkx in /usr/local/lib/python3.6/dist-packages (from hyperopt>=0.1.1->flair==0.4.5) (2.4)\n",
            "Requirement already satisfied, skipping upgrade: pymongo in /usr/local/lib/python3.6/dist-packages (from hyperopt>=0.1.1->flair==0.4.5) (3.10.1)\n",
            "Requirement already satisfied, skipping upgrade: kiwisolver>=1.0.1 in /usr/local/lib/python3.6/dist-packages (from matplotlib>=2.2.3->flair==0.4.5) (1.2.0)\n",
            "Requirement already satisfied, skipping upgrade: cycler>=0.10 in /usr/local/lib/python3.6/dist-packages (from matplotlib>=2.2.3->flair==0.4.5) (0.10.0)\n",
            "Requirement already satisfied, skipping upgrade: pyparsing!=2.0.4,!=2.1.2,!=2.1.6,>=2.0.1 in /usr/local/lib/python3.6/dist-packages (from matplotlib>=2.2.3->flair==0.4.5) (2.4.7)\n",
            "Requirement already satisfied, skipping upgrade: joblib>=0.11 in /usr/local/lib/python3.6/dist-packages (from scikit-learn>=0.21.3->flair==0.4.5) (0.14.1)\n",
            "Requirement already satisfied, skipping upgrade: more-itertools>=4.0.0 in /usr/local/lib/python3.6/dist-packages (from pytest>=5.3.2->flair==0.4.5) (8.2.0)\n",
            "Requirement already satisfied, skipping upgrade: py>=1.5.0 in /usr/local/lib/python3.6/dist-packages (from pytest>=5.3.2->flair==0.4.5) (1.8.1)\n",
            "Collecting pluggy<1.0,>=0.12\n",
            "  Downloading https://files.pythonhosted.org/packages/a0/28/85c7aa31b80d150b772fbe4a229487bc6644da9ccb7e427dd8cc60cb8a62/pluggy-0.13.1-py2.py3-none-any.whl\n",
            "Requirement already satisfied, skipping upgrade: wcwidth in /usr/local/lib/python3.6/dist-packages (from pytest>=5.3.2->flair==0.4.5) (0.1.9)\n",
            "Requirement already satisfied, skipping upgrade: packaging in /usr/local/lib/python3.6/dist-packages (from pytest>=5.3.2->flair==0.4.5) (20.3)\n",
            "Requirement already satisfied, skipping upgrade: attrs>=17.4.0 in /usr/local/lib/python3.6/dist-packages (from pytest>=5.3.2->flair==0.4.5) (19.3.0)\n",
            "Requirement already satisfied, skipping upgrade: importlib-metadata>=0.12; python_version < \"3.8\" in /usr/local/lib/python3.6/dist-packages (from pytest>=5.3.2->flair==0.4.5) (1.6.0)\n",
            "Requirement already satisfied, skipping upgrade: click in /usr/local/lib/python3.6/dist-packages (from sacremoses->transformers>=2.6.0->flair==0.4.5) (7.1.2)\n",
            "Requirement already satisfied, skipping upgrade: s3transfer<0.4.0,>=0.3.0 in /usr/local/lib/python3.6/dist-packages (from boto3->transformers>=2.6.0->flair==0.4.5) (0.3.3)\n",
            "Requirement already satisfied, skipping upgrade: botocore<1.16.0,>=1.15.47 in /usr/local/lib/python3.6/dist-packages (from boto3->transformers>=2.6.0->flair==0.4.5) (1.15.47)\n",
            "Requirement already satisfied, skipping upgrade: jmespath<1.0.0,>=0.7.1 in /usr/local/lib/python3.6/dist-packages (from boto3->transformers>=2.6.0->flair==0.4.5) (0.9.5)\n",
            "Requirement already satisfied, skipping upgrade: urllib3!=1.25.0,!=1.25.1,<1.26,>=1.21.1 in /usr/local/lib/python3.6/dist-packages (from requests->transformers>=2.6.0->flair==0.4.5) (1.24.3)\n",
            "Requirement already satisfied, skipping upgrade: certifi>=2017.4.17 in /usr/local/lib/python3.6/dist-packages (from requests->transformers>=2.6.0->flair==0.4.5) (2020.4.5.1)\n",
            "Requirement already satisfied, skipping upgrade: idna<3,>=2.5 in /usr/local/lib/python3.6/dist-packages (from requests->transformers>=2.6.0->flair==0.4.5) (2.9)\n",
            "Requirement already satisfied, skipping upgrade: chardet<4,>=3.0.2 in /usr/local/lib/python3.6/dist-packages (from requests->transformers>=2.6.0->flair==0.4.5) (3.0.4)\n",
            "Requirement already satisfied, skipping upgrade: boto in /usr/local/lib/python3.6/dist-packages (from smart-open>=1.2.1->gensim>=3.4.0->flair==0.4.5) (2.49.0)\n",
            "Requirement already satisfied, skipping upgrade: decorator>=4.3.0 in /usr/local/lib/python3.6/dist-packages (from networkx->hyperopt>=0.1.1->flair==0.4.5) (4.4.2)\n",
            "Requirement already satisfied, skipping upgrade: zipp>=0.5 in /usr/local/lib/python3.6/dist-packages (from importlib-metadata>=0.12; python_version < \"3.8\"->pytest>=5.3.2->flair==0.4.5) (3.1.0)\n",
            "Requirement already satisfied, skipping upgrade: docutils<0.16,>=0.10 in /usr/local/lib/python3.6/dist-packages (from botocore<1.16.0,>=1.15.47->boto3->transformers>=2.6.0->flair==0.4.5) (0.15.2)\n",
            "Building wheels for collected packages: flair\n",
            "  Building wheel for flair (PEP 517) ... \u001b[?25l\u001b[?25hdone\n",
            "  Created wheel for flair: filename=flair-0.4.5-cp36-none-any.whl size=141097 sha256=ca68084130e84dcda210dee239e1f28682612ddc91a11aa08e30e15486a3ba65\n",
            "  Stored in directory: /tmp/pip-ephem-wheel-cache-_12qg3zt/wheels/84/82/73/d2b3b59b7be74ea05f2c6d64132efe27df52daffb47d1dc7bb\n",
            "Successfully built flair\n",
            "Building wheels for collected packages: segtok, sqlitedict, mpld3, langdetect, sacremoses\n",
            "  Building wheel for segtok (setup.py) ... \u001b[?25l\u001b[?25hdone\n",
            "  Created wheel for segtok: filename=segtok-1.5.9-cp36-none-any.whl size=24853 sha256=cca47ed201e7e1e9d8eb24b27bdda384e48d49e8952dd660eff9aea19715c3d4\n",
            "  Stored in directory: /root/.cache/pip/wheels/8b/a3/41/54616e3b92f9a3d1b99fc99955a4089f9e6b1d274e66da250c\n",
            "  Building wheel for sqlitedict (setup.py) ... \u001b[?25l\u001b[?25hdone\n",
            "  Created wheel for sqlitedict: filename=sqlitedict-1.6.0-cp36-none-any.whl size=14689 sha256=5bcffa0558c363636d01234ee5aeffa7dc1ae5765bb8a215d488346882bd5523\n",
            "  Stored in directory: /root/.cache/pip/wheels/bd/57/d3/907c3ee02d35e66f674ad0106e61f06eeeb98f6ee66a6cc3fe\n",
            "  Building wheel for mpld3 (setup.py) ... \u001b[?25l\u001b[?25hdone\n",
            "  Created wheel for mpld3: filename=mpld3-0.3-cp36-none-any.whl size=116679 sha256=3f3e5ea600796666a3021ca8b19e9c7d641de543a84a4ca973c2271fa0a91c34\n",
            "  Stored in directory: /root/.cache/pip/wheels/c0/47/fb/8a64f89aecfe0059830479308ad42d62e898a3e3cefdf6ba28\n",
            "  Building wheel for langdetect (setup.py) ... \u001b[?25l\u001b[?25hdone\n",
            "  Created wheel for langdetect: filename=langdetect-1.0.8-cp36-none-any.whl size=993193 sha256=417c741978027335871bb573047c4ccc0ccaea95f6a613282db559b5aca36bc7\n",
            "  Stored in directory: /root/.cache/pip/wheels/8d/b3/aa/6d99de9f3841d7d3d40a60ea06e6d669e8e5012e6c8b947a57\n",
            "  Building wheel for sacremoses (setup.py) ... \u001b[?25l\u001b[?25hdone\n",
            "  Created wheel for sacremoses: filename=sacremoses-0.0.41-cp36-none-any.whl size=893334 sha256=3dee7a59ffca48c2382e945b087e6d96a46833b43713c939447c984530b1758f\n",
            "  Stored in directory: /root/.cache/pip/wheels/22/5a/d4/b020a81249de7dc63758a34222feaa668dbe8ebfe9170cc9b1\n",
            "Successfully built segtok sqlitedict mpld3 langdetect sacremoses\n",
            "\u001b[31mERROR: datascience 0.10.6 has requirement folium==0.2.1, but you'll have folium 0.8.3 which is incompatible.\u001b[0m\n",
            "Installing collected packages: segtok, sqlitedict, tokenizers, sentencepiece, sacremoses, transformers, mpld3, deprecated, bpemb, langdetect, pluggy, pytest, flair\n",
            "  Found existing installation: pluggy 0.7.1\n",
            "    Uninstalling pluggy-0.7.1:\n",
            "      Successfully uninstalled pluggy-0.7.1\n",
            "  Found existing installation: pytest 3.6.4\n",
            "    Uninstalling pytest-3.6.4:\n",
            "      Successfully uninstalled pytest-3.6.4\n",
            "Successfully installed bpemb-0.3.0 deprecated-1.2.9 flair-0.4.5 langdetect-1.0.8 mpld3-0.3 pluggy-0.13.1 pytest-5.4.1 sacremoses-0.0.41 segtok-1.5.9 sentencepiece-0.1.86 sqlitedict-1.6.0 tokenizers-0.5.2 transformers-2.8.0\n"
          ],
          "name": "stdout"
        }
      ]
    },
    {
      "cell_type": "code",
      "metadata": {
        "id": "bzmoeMLWZB2I",
        "colab_type": "code",
        "colab": {}
      },
      "source": [
        "from flair.embeddings import FlairEmbeddings, DocumentPoolEmbeddings, Sentence, BertEmbeddings"
      ],
      "execution_count": 0,
      "outputs": []
    },
    {
      "cell_type": "code",
      "metadata": {
        "id": "Fj3PP5kAQxul",
        "colab_type": "code",
        "outputId": "a4bc4149-4a2e-46d7-a99f-818b95dd91d4",
        "colab": {
          "base_uri": "https://localhost:8080/",
          "height": 324,
          "referenced_widgets": [
            "a57c02435283449baa31e8ca452e1357",
            "bf9a1eb1924e4acca36ba1ec0e6e29c5",
            "0b77fb00c13c4f5e83827116c8933eb9",
            "ab409df3211a4cf88fc85a4ec8cefbc1",
            "975bea5adeaa438e89823bc732c95247",
            "322640d18888462ca6484923cae1ea2f",
            "003ef1e1eee14e99a655c6ed5a32bfaa",
            "d68d52397c7d4cd9a931df65bd0b60e7",
            "6fdc6eb061e04cadadf262f50cd52e88",
            "4e499031713c4f24a4923ec9f166b506",
            "8e84b1d1383541639355c333569cde3d",
            "d340ab0bd73f4c558f1dddec4ca123e2",
            "7869951a63a14185b7729409e038f9b3",
            "9a50a35694834b43aae093e9467d2008",
            "58d0d91bfac44a82b97f18bcc2ba26a8",
            "13a5370669e04b21adf1b45b1deef473",
            "bad4aef604ae49008b528e0e54d97eb5",
            "9c29335267324e858b5af36f6dabd58f",
            "d26bf442580b4091ad59ba89bc5eff96",
            "167872aae0784716bc9ffed6bd165b6c",
            "5d2c9b6d46474ebeaed31404dcc7753d",
            "5f3076df09c94077aab1893f77f72c36",
            "2aa17d2968a0467cb445acf0bebfd513",
            "5f2c6284223e482a8e7ce0da097994ff"
          ]
        }
      },
      "source": [
        "# initialise embedding classes\n",
        "flair_embedding_forward = FlairEmbeddings('news-forward')\n",
        "flair_embedding_backward = FlairEmbeddings('news-backward')\n",
        "bert_embedding = BertEmbeddings('bert-base-uncased')\n",
        "# combine word embedding models\n",
        "document_embeddings = DocumentPoolEmbeddings([bert_embedding, flair_embedding_backward, flair_embedding_forward])"
      ],
      "execution_count": 4,
      "outputs": [
        {
          "output_type": "stream",
          "text": [
            "2020-05-03 16:15:25,220 https://s3.eu-central-1.amazonaws.com/alan-nlp/resources/embeddings-v0.4.1/big-news-forward--h2048-l1-d0.05-lr30-0.25-20/news-forward-0.4.1.pt not found in cache, downloading to /tmp/tmpqhsp4v81\n"
          ],
          "name": "stdout"
        },
        {
          "output_type": "stream",
          "text": [
            "100%|██████████| 73034624/73034624 [00:08<00:00, 8383889.99B/s]"
          ],
          "name": "stderr"
        },
        {
          "output_type": "stream",
          "text": [
            "2020-05-03 16:15:35,087 copying /tmp/tmpqhsp4v81 to cache at /root/.flair/embeddings/news-forward-0.4.1.pt\n",
            "2020-05-03 16:15:35,181 removing temp file /tmp/tmpqhsp4v81\n"
          ],
          "name": "stdout"
        },
        {
          "output_type": "stream",
          "text": [
            "\n"
          ],
          "name": "stderr"
        },
        {
          "output_type": "stream",
          "text": [
            "2020-05-03 16:15:54,154 https://s3.eu-central-1.amazonaws.com/alan-nlp/resources/embeddings-v0.4.1/big-news-backward--h2048-l1-d0.05-lr30-0.25-20/news-backward-0.4.1.pt not found in cache, downloading to /tmp/tmpqgie7_wg\n"
          ],
          "name": "stdout"
        },
        {
          "output_type": "stream",
          "text": [
            "100%|██████████| 73034575/73034575 [00:09<00:00, 8063115.14B/s]"
          ],
          "name": "stderr"
        },
        {
          "output_type": "stream",
          "text": [
            "2020-05-03 16:16:04,397 copying /tmp/tmpqgie7_wg to cache at /root/.flair/embeddings/news-backward-0.4.1.pt\n"
          ],
          "name": "stdout"
        },
        {
          "output_type": "stream",
          "text": [
            "\n"
          ],
          "name": "stderr"
        },
        {
          "output_type": "stream",
          "text": [
            "2020-05-03 16:16:04,489 removing temp file /tmp/tmpqgie7_wg\n"
          ],
          "name": "stdout"
        },
        {
          "output_type": "display_data",
          "data": {
            "application/vnd.jupyter.widget-view+json": {
              "model_id": "a57c02435283449baa31e8ca452e1357",
              "version_minor": 0,
              "version_major": 2
            },
            "text/plain": [
              "HBox(children=(IntProgress(value=0, description='Downloading', max=231508, style=ProgressStyle(description_wid…"
            ]
          },
          "metadata": {
            "tags": []
          }
        },
        {
          "output_type": "stream",
          "text": [
            "\n"
          ],
          "name": "stdout"
        },
        {
          "output_type": "display_data",
          "data": {
            "application/vnd.jupyter.widget-view+json": {
              "model_id": "6fdc6eb061e04cadadf262f50cd52e88",
              "version_minor": 0,
              "version_major": 2
            },
            "text/plain": [
              "HBox(children=(IntProgress(value=0, description='Downloading', max=433, style=ProgressStyle(description_width=…"
            ]
          },
          "metadata": {
            "tags": []
          }
        },
        {
          "output_type": "stream",
          "text": [
            "\n"
          ],
          "name": "stdout"
        },
        {
          "output_type": "display_data",
          "data": {
            "application/vnd.jupyter.widget-view+json": {
              "model_id": "bad4aef604ae49008b528e0e54d97eb5",
              "version_minor": 0,
              "version_major": 2
            },
            "text/plain": [
              "HBox(children=(IntProgress(value=0, description='Downloading', max=440473133, style=ProgressStyle(description_…"
            ]
          },
          "metadata": {
            "tags": []
          }
        },
        {
          "output_type": "stream",
          "text": [
            "\n"
          ],
          "name": "stdout"
        }
      ]
    },
    {
      "cell_type": "code",
      "metadata": {
        "id": "Zzh_hrfWlVND",
        "colab_type": "code",
        "outputId": "e204fde2-ef41-4026-9ed6-0bc41d09cef0",
        "colab": {
          "resources": {
            "http://localhost:8080/nbextensions/google.colab/files.js": {
              "data": "Ly8gQ29weXJpZ2h0IDIwMTcgR29vZ2xlIExMQwovLwovLyBMaWNlbnNlZCB1bmRlciB0aGUgQXBhY2hlIExpY2Vuc2UsIFZlcnNpb24gMi4wICh0aGUgIkxpY2Vuc2UiKTsKLy8geW91IG1heSBub3QgdXNlIHRoaXMgZmlsZSBleGNlcHQgaW4gY29tcGxpYW5jZSB3aXRoIHRoZSBMaWNlbnNlLgovLyBZb3UgbWF5IG9idGFpbiBhIGNvcHkgb2YgdGhlIExpY2Vuc2UgYXQKLy8KLy8gICAgICBodHRwOi8vd3d3LmFwYWNoZS5vcmcvbGljZW5zZXMvTElDRU5TRS0yLjAKLy8KLy8gVW5sZXNzIHJlcXVpcmVkIGJ5IGFwcGxpY2FibGUgbGF3IG9yIGFncmVlZCB0byBpbiB3cml0aW5nLCBzb2Z0d2FyZQovLyBkaXN0cmlidXRlZCB1bmRlciB0aGUgTGljZW5zZSBpcyBkaXN0cmlidXRlZCBvbiBhbiAiQVMgSVMiIEJBU0lTLAovLyBXSVRIT1VUIFdBUlJBTlRJRVMgT1IgQ09ORElUSU9OUyBPRiBBTlkgS0lORCwgZWl0aGVyIGV4cHJlc3Mgb3IgaW1wbGllZC4KLy8gU2VlIHRoZSBMaWNlbnNlIGZvciB0aGUgc3BlY2lmaWMgbGFuZ3VhZ2UgZ292ZXJuaW5nIHBlcm1pc3Npb25zIGFuZAovLyBsaW1pdGF0aW9ucyB1bmRlciB0aGUgTGljZW5zZS4KCi8qKgogKiBAZmlsZW92ZXJ2aWV3IEhlbHBlcnMgZm9yIGdvb2dsZS5jb2xhYiBQeXRob24gbW9kdWxlLgogKi8KKGZ1bmN0aW9uKHNjb3BlKSB7CmZ1bmN0aW9uIHNwYW4odGV4dCwgc3R5bGVBdHRyaWJ1dGVzID0ge30pIHsKICBjb25zdCBlbGVtZW50ID0gZG9jdW1lbnQuY3JlYXRlRWxlbWVudCgnc3BhbicpOwogIGVsZW1lbnQudGV4dENvbnRlbnQgPSB0ZXh0OwogIGZvciAoY29uc3Qga2V5IG9mIE9iamVjdC5rZXlzKHN0eWxlQXR0cmlidXRlcykpIHsKICAgIGVsZW1lbnQuc3R5bGVba2V5XSA9IHN0eWxlQXR0cmlidXRlc1trZXldOwogIH0KICByZXR1cm4gZWxlbWVudDsKfQoKLy8gTWF4IG51bWJlciBvZiBieXRlcyB3aGljaCB3aWxsIGJlIHVwbG9hZGVkIGF0IGEgdGltZS4KY29uc3QgTUFYX1BBWUxPQURfU0laRSA9IDEwMCAqIDEwMjQ7Ci8vIE1heCBhbW91bnQgb2YgdGltZSB0byBibG9jayB3YWl0aW5nIGZvciB0aGUgdXNlci4KY29uc3QgRklMRV9DSEFOR0VfVElNRU9VVF9NUyA9IDMwICogMTAwMDsKCmZ1bmN0aW9uIF91cGxvYWRGaWxlcyhpbnB1dElkLCBvdXRwdXRJZCkgewogIGNvbnN0IHN0ZXBzID0gdXBsb2FkRmlsZXNTdGVwKGlucHV0SWQsIG91dHB1dElkKTsKICBjb25zdCBvdXRwdXRFbGVtZW50ID0gZG9jdW1lbnQuZ2V0RWxlbWVudEJ5SWQob3V0cHV0SWQpOwogIC8vIENhY2hlIHN0ZXBzIG9uIHRoZSBvdXRwdXRFbGVtZW50IHRvIG1ha2UgaXQgYXZhaWxhYmxlIGZvciB0aGUgbmV4dCBjYWxsCiAgLy8gdG8gdXBsb2FkRmlsZXNDb250aW51ZSBmcm9tIFB5dGhvbi4KICBvdXRwdXRFbGVtZW50LnN0ZXBzID0gc3RlcHM7CgogIHJldHVybiBfdXBsb2FkRmlsZXNDb250aW51ZShvdXRwdXRJZCk7Cn0KCi8vIFRoaXMgaXMgcm91Z2hseSBhbiBhc3luYyBnZW5lcmF0b3IgKG5vdCBzdXBwb3J0ZWQgaW4gdGhlIGJyb3dzZXIgeWV0KSwKLy8gd2hlcmUgdGhlcmUgYXJlIG11bHRpcGxlIGFzeW5jaHJvbm91cyBzdGVwcyBhbmQgdGhlIFB5dGhvbiBzaWRlIGlzIGdvaW5nCi8vIHRvIHBvbGwgZm9yIGNvbXBsZXRpb24gb2YgZWFjaCBzdGVwLgovLyBUaGlzIHVzZXMgYSBQcm9taXNlIHRvIGJsb2NrIHRoZSBweXRob24gc2lkZSBvbiBjb21wbGV0aW9uIG9mIGVhY2ggc3RlcCwKLy8gdGhlbiBwYXNzZXMgdGhlIHJlc3VsdCBvZiB0aGUgcHJldmlvdXMgc3RlcCBhcyB0aGUgaW5wdXQgdG8gdGhlIG5leHQgc3RlcC4KZnVuY3Rpb24gX3VwbG9hZEZpbGVzQ29udGludWUob3V0cHV0SWQpIHsKICBjb25zdCBvdXRwdXRFbGVtZW50ID0gZG9jdW1lbnQuZ2V0RWxlbWVudEJ5SWQob3V0cHV0SWQpOwogIGNvbnN0IHN0ZXBzID0gb3V0cHV0RWxlbWVudC5zdGVwczsKCiAgY29uc3QgbmV4dCA9IHN0ZXBzLm5leHQob3V0cHV0RWxlbWVudC5sYXN0UHJvbWlzZVZhbHVlKTsKICByZXR1cm4gUHJvbWlzZS5yZXNvbHZlKG5leHQudmFsdWUucHJvbWlzZSkudGhlbigodmFsdWUpID0+IHsKICAgIC8vIENhY2hlIHRoZSBsYXN0IHByb21pc2UgdmFsdWUgdG8gbWFrZSBpdCBhdmFpbGFibGUgdG8gdGhlIG5leHQKICAgIC8vIHN0ZXAgb2YgdGhlIGdlbmVyYXRvci4KICAgIG91dHB1dEVsZW1lbnQubGFzdFByb21pc2VWYWx1ZSA9IHZhbHVlOwogICAgcmV0dXJuIG5leHQudmFsdWUucmVzcG9uc2U7CiAgfSk7Cn0KCi8qKgogKiBHZW5lcmF0b3IgZnVuY3Rpb24gd2hpY2ggaXMgY2FsbGVkIGJldHdlZW4gZWFjaCBhc3luYyBzdGVwIG9mIHRoZSB1cGxvYWQKICogcHJvY2Vzcy4KICogQHBhcmFtIHtzdHJpbmd9IGlucHV0SWQgRWxlbWVudCBJRCBvZiB0aGUgaW5wdXQgZmlsZSBwaWNrZXIgZWxlbWVudC4KICogQHBhcmFtIHtzdHJpbmd9IG91dHB1dElkIEVsZW1lbnQgSUQgb2YgdGhlIG91dHB1dCBkaXNwbGF5LgogKiBAcmV0dXJuIHshSXRlcmFibGU8IU9iamVjdD59IEl0ZXJhYmxlIG9mIG5leHQgc3RlcHMuCiAqLwpmdW5jdGlvbiogdXBsb2FkRmlsZXNTdGVwKGlucHV0SWQsIG91dHB1dElkKSB7CiAgY29uc3QgaW5wdXRFbGVtZW50ID0gZG9jdW1lbnQuZ2V0RWxlbWVudEJ5SWQoaW5wdXRJZCk7CiAgaW5wdXRFbGVtZW50LmRpc2FibGVkID0gZmFsc2U7CgogIGNvbnN0IG91dHB1dEVsZW1lbnQgPSBkb2N1bWVudC5nZXRFbGVtZW50QnlJZChvdXRwdXRJZCk7CiAgb3V0cHV0RWxlbWVudC5pbm5lckhUTUwgPSAnJzsKCiAgY29uc3QgcGlja2VkUHJvbWlzZSA9IG5ldyBQcm9taXNlKChyZXNvbHZlKSA9PiB7CiAgICBpbnB1dEVsZW1lbnQuYWRkRXZlbnRMaXN0ZW5lcignY2hhbmdlJywgKGUpID0+IHsKICAgICAgcmVzb2x2ZShlLnRhcmdldC5maWxlcyk7CiAgICB9KTsKICB9KTsKCiAgY29uc3QgY2FuY2VsID0gZG9jdW1lbnQuY3JlYXRlRWxlbWVudCgnYnV0dG9uJyk7CiAgaW5wdXRFbGVtZW50LnBhcmVudEVsZW1lbnQuYXBwZW5kQ2hpbGQoY2FuY2VsKTsKICBjYW5jZWwudGV4dENvbnRlbnQgPSAnQ2FuY2VsIHVwbG9hZCc7CiAgY29uc3QgY2FuY2VsUHJvbWlzZSA9IG5ldyBQcm9taXNlKChyZXNvbHZlKSA9PiB7CiAgICBjYW5jZWwub25jbGljayA9ICgpID0+IHsKICAgICAgcmVzb2x2ZShudWxsKTsKICAgIH07CiAgfSk7CgogIC8vIENhbmNlbCB1cGxvYWQgaWYgdXNlciBoYXNuJ3QgcGlja2VkIGFueXRoaW5nIGluIHRpbWVvdXQuCiAgY29uc3QgdGltZW91dFByb21pc2UgPSBuZXcgUHJvbWlzZSgocmVzb2x2ZSkgPT4gewogICAgc2V0VGltZW91dCgoKSA9PiB7CiAgICAgIHJlc29sdmUobnVsbCk7CiAgICB9LCBGSUxFX0NIQU5HRV9USU1FT1VUX01TKTsKICB9KTsKCiAgLy8gV2FpdCBmb3IgdGhlIHVzZXIgdG8gcGljayB0aGUgZmlsZXMuCiAgY29uc3QgZmlsZXMgPSB5aWVsZCB7CiAgICBwcm9taXNlOiBQcm9taXNlLnJhY2UoW3BpY2tlZFByb21pc2UsIHRpbWVvdXRQcm9taXNlLCBjYW5jZWxQcm9taXNlXSksCiAgICByZXNwb25zZTogewogICAgICBhY3Rpb246ICdzdGFydGluZycsCiAgICB9CiAgfTsKCiAgaWYgKCFmaWxlcykgewogICAgcmV0dXJuIHsKICAgICAgcmVzcG9uc2U6IHsKICAgICAgICBhY3Rpb246ICdjb21wbGV0ZScsCiAgICAgIH0KICAgIH07CiAgfQoKICBjYW5jZWwucmVtb3ZlKCk7CgogIC8vIERpc2FibGUgdGhlIGlucHV0IGVsZW1lbnQgc2luY2UgZnVydGhlciBwaWNrcyBhcmUgbm90IGFsbG93ZWQuCiAgaW5wdXRFbGVtZW50LmRpc2FibGVkID0gdHJ1ZTsKCiAgZm9yIChjb25zdCBmaWxlIG9mIGZpbGVzKSB7CiAgICBjb25zdCBsaSA9IGRvY3VtZW50LmNyZWF0ZUVsZW1lbnQoJ2xpJyk7CiAgICBsaS5hcHBlbmQoc3BhbihmaWxlLm5hbWUsIHtmb250V2VpZ2h0OiAnYm9sZCd9KSk7CiAgICBsaS5hcHBlbmQoc3BhbigKICAgICAgICBgKCR7ZmlsZS50eXBlIHx8ICduL2EnfSkgLSAke2ZpbGUuc2l6ZX0gYnl0ZXMsIGAgKwogICAgICAgIGBsYXN0IG1vZGlmaWVkOiAkewogICAgICAgICAgICBmaWxlLmxhc3RNb2RpZmllZERhdGUgPyBmaWxlLmxhc3RNb2RpZmllZERhdGUudG9Mb2NhbGVEYXRlU3RyaW5nKCkgOgogICAgICAgICAgICAgICAgICAgICAgICAgICAgICAgICAgICAnbi9hJ30gLSBgKSk7CiAgICBjb25zdCBwZXJjZW50ID0gc3BhbignMCUgZG9uZScpOwogICAgbGkuYXBwZW5kQ2hpbGQocGVyY2VudCk7CgogICAgb3V0cHV0RWxlbWVudC5hcHBlbmRDaGlsZChsaSk7CgogICAgY29uc3QgZmlsZURhdGFQcm9taXNlID0gbmV3IFByb21pc2UoKHJlc29sdmUpID0+IHsKICAgICAgY29uc3QgcmVhZGVyID0gbmV3IEZpbGVSZWFkZXIoKTsKICAgICAgcmVhZGVyLm9ubG9hZCA9IChlKSA9PiB7CiAgICAgICAgcmVzb2x2ZShlLnRhcmdldC5yZXN1bHQpOwogICAgICB9OwogICAgICByZWFkZXIucmVhZEFzQXJyYXlCdWZmZXIoZmlsZSk7CiAgICB9KTsKICAgIC8vIFdhaXQgZm9yIHRoZSBkYXRhIHRvIGJlIHJlYWR5LgogICAgbGV0IGZpbGVEYXRhID0geWllbGQgewogICAgICBwcm9taXNlOiBmaWxlRGF0YVByb21pc2UsCiAgICAgIHJlc3BvbnNlOiB7CiAgICAgICAgYWN0aW9uOiAnY29udGludWUnLAogICAgICB9CiAgICB9OwoKICAgIC8vIFVzZSBhIGNodW5rZWQgc2VuZGluZyB0byBhdm9pZCBtZXNzYWdlIHNpemUgbGltaXRzLiBTZWUgYi82MjExNTY2MC4KICAgIGxldCBwb3NpdGlvbiA9IDA7CiAgICB3aGlsZSAocG9zaXRpb24gPCBmaWxlRGF0YS5ieXRlTGVuZ3RoKSB7CiAgICAgIGNvbnN0IGxlbmd0aCA9IE1hdGgubWluKGZpbGVEYXRhLmJ5dGVMZW5ndGggLSBwb3NpdGlvbiwgTUFYX1BBWUxPQURfU0laRSk7CiAgICAgIGNvbnN0IGNodW5rID0gbmV3IFVpbnQ4QXJyYXkoZmlsZURhdGEsIHBvc2l0aW9uLCBsZW5ndGgpOwogICAgICBwb3NpdGlvbiArPSBsZW5ndGg7CgogICAgICBjb25zdCBiYXNlNjQgPSBidG9hKFN0cmluZy5mcm9tQ2hhckNvZGUuYXBwbHkobnVsbCwgY2h1bmspKTsKICAgICAgeWllbGQgewogICAgICAgIHJlc3BvbnNlOiB7CiAgICAgICAgICBhY3Rpb246ICdhcHBlbmQnLAogICAgICAgICAgZmlsZTogZmlsZS5uYW1lLAogICAgICAgICAgZGF0YTogYmFzZTY0LAogICAgICAgIH0sCiAgICAgIH07CiAgICAgIHBlcmNlbnQudGV4dENvbnRlbnQgPQogICAgICAgICAgYCR7TWF0aC5yb3VuZCgocG9zaXRpb24gLyBmaWxlRGF0YS5ieXRlTGVuZ3RoKSAqIDEwMCl9JSBkb25lYDsKICAgIH0KICB9CgogIC8vIEFsbCBkb25lLgogIHlpZWxkIHsKICAgIHJlc3BvbnNlOiB7CiAgICAgIGFjdGlvbjogJ2NvbXBsZXRlJywKICAgIH0KICB9Owp9CgpzY29wZS5nb29nbGUgPSBzY29wZS5nb29nbGUgfHwge307CnNjb3BlLmdvb2dsZS5jb2xhYiA9IHNjb3BlLmdvb2dsZS5jb2xhYiB8fCB7fTsKc2NvcGUuZ29vZ2xlLmNvbGFiLl9maWxlcyA9IHsKICBfdXBsb2FkRmlsZXMsCiAgX3VwbG9hZEZpbGVzQ29udGludWUsCn07Cn0pKHNlbGYpOwo=",
              "ok": true,
              "headers": [
                [
                  "content-type",
                  "application/javascript"
                ]
              ],
              "status": 200,
              "status_text": ""
            }
          },
          "base_uri": "https://localhost:8080/",
          "height": 75
        }
      },
      "source": [
        "from google.colab import files\n",
        "uploaded = files.upload()"
      ],
      "execution_count": 6,
      "outputs": [
        {
          "output_type": "display_data",
          "data": {
            "text/html": [
              "\n",
              "     <input type=\"file\" id=\"files-46d4c03d-4f80-4b4a-934b-7551998f0997\" name=\"files[]\" multiple disabled />\n",
              "     <output id=\"result-46d4c03d-4f80-4b4a-934b-7551998f0997\">\n",
              "      Upload widget is only available when the cell has been executed in the\n",
              "      current browser session. Please rerun this cell to enable.\n",
              "      </output>\n",
              "      <script src=\"/nbextensions/google.colab/files.js\"></script> "
            ],
            "text/plain": [
              "<IPython.core.display.HTML object>"
            ]
          },
          "metadata": {
            "tags": []
          }
        },
        {
          "output_type": "stream",
          "text": [
            "Saving Sample_Survey_Data.csv to Sample_Survey_Data.csv\n"
          ],
          "name": "stdout"
        }
      ]
    },
    {
      "cell_type": "code",
      "metadata": {
        "id": "at0tu4KFngYl",
        "colab_type": "code",
        "outputId": "c634202c-b63d-462f-cf98-d1985867e04e",
        "colab": {
          "base_uri": "https://localhost:8080/",
          "height": 202
        }
      },
      "source": [
        "import io\n",
        "data = io.BytesIO(uploaded['Sample_Survey_Data.csv'])   \n",
        "data = pd.read_csv(data)\n",
        "data.head()"
      ],
      "execution_count": 7,
      "outputs": [
        {
          "output_type": "execute_result",
          "data": {
            "text/html": [
              "<div>\n",
              "<style scoped>\n",
              "    .dataframe tbody tr th:only-of-type {\n",
              "        vertical-align: middle;\n",
              "    }\n",
              "\n",
              "    .dataframe tbody tr th {\n",
              "        vertical-align: top;\n",
              "    }\n",
              "\n",
              "    .dataframe thead th {\n",
              "        text-align: right;\n",
              "    }\n",
              "</style>\n",
              "<table border=\"1\" class=\"dataframe\">\n",
              "  <thead>\n",
              "    <tr style=\"text-align: right;\">\n",
              "      <th></th>\n",
              "      <th>Suggestions</th>\n",
              "      <th>Positive</th>\n",
              "      <th>Negative</th>\n",
              "    </tr>\n",
              "  </thead>\n",
              "  <tbody>\n",
              "    <tr>\n",
              "      <th>0</th>\n",
              "      <td>Some of the questions are repetitive resulting...</td>\n",
              "      <td>0</td>\n",
              "      <td>1</td>\n",
              "    </tr>\n",
              "    <tr>\n",
              "      <th>1</th>\n",
              "      <td>I felt like it was repetitive and it would hav...</td>\n",
              "      <td>0</td>\n",
              "      <td>1</td>\n",
              "    </tr>\n",
              "    <tr>\n",
              "      <th>2</th>\n",
              "      <td>had a MRI and later a knee surgery, this two d...</td>\n",
              "      <td>0</td>\n",
              "      <td>1</td>\n",
              "    </tr>\n",
              "    <tr>\n",
              "      <th>3</th>\n",
              "      <td>some of the questions were y/n when y/n did no...</td>\n",
              "      <td>0</td>\n",
              "      <td>1</td>\n",
              "    </tr>\n",
              "    <tr>\n",
              "      <th>4</th>\n",
              "      <td>I hated this experience.  I tried to capture a...</td>\n",
              "      <td>0</td>\n",
              "      <td>1</td>\n",
              "    </tr>\n",
              "  </tbody>\n",
              "</table>\n",
              "</div>"
            ],
            "text/plain": [
              "                                         Suggestions  Positive  Negative\n",
              "0  Some of the questions are repetitive resulting...         0         1\n",
              "1  I felt like it was repetitive and it would hav...         0         1\n",
              "2  had a MRI and later a knee surgery, this two d...         0         1\n",
              "3  some of the questions were y/n when y/n did no...         0         1\n",
              "4  I hated this experience.  I tried to capture a...         0         1"
            ]
          },
          "metadata": {
            "tags": []
          },
          "execution_count": 7
        }
      ]
    },
    {
      "cell_type": "code",
      "metadata": {
        "id": "dmCQWJrIomcA",
        "colab_type": "code",
        "colab": {}
      },
      "source": [
        "data=data[['Suggestions']]"
      ],
      "execution_count": 0,
      "outputs": []
    },
    {
      "cell_type": "code",
      "metadata": {
        "id": "Vx6py8KTWEvy",
        "colab_type": "code",
        "colab": {
          "base_uri": "https://localhost:8080/",
          "height": 35
        },
        "outputId": "7785adb9-7a9f-46ff-8941-e1ad741490fb"
      },
      "source": [
        "data.shape"
      ],
      "execution_count": 9,
      "outputs": [
        {
          "output_type": "execute_result",
          "data": {
            "text/plain": [
              "(1179, 1)"
            ]
          },
          "metadata": {
            "tags": []
          },
          "execution_count": 9
        }
      ]
    },
    {
      "cell_type": "code",
      "metadata": {
        "id": "24opqWeYqQic",
        "colab_type": "code",
        "colab": {}
      },
      "source": [
        "stopwords = ['i', 'me', 'my', 'myself', 'we', 'our', 'ours', 'ourselves', 'you', \"you're\", \"you've\", \"you'll\", \n",
        "             \"you'd\", 'your', 'yours', 'yourself', 'yourselves', 'he', 'him', 'his', 'himself', 'she', \"she's\", \n",
        "             'her', 'hers', 'herself', 'it', \"it's\", 'its', 'itself', 'they', 'them', 'their', 'theirs', \n",
        "             'themselves', 'what', 'which', 'who', 'whom', 'this', 'that', \"that'll\", 'these', 'those', 'am', \n",
        "             'is', 'are', 'was', 'were', 'be', 'been', 'being', 'have', 'has', 'had', 'having', 'do', 'does', \n",
        "             'did', 'doing', 'a', 'an', 'the', 'and', 'but', 'if', 'or', 'because', 'as', 'until', 'while', 'of', \n",
        "             'at', 'by', 'for', 'with', 'about', 'against', 'between', 'into', 'through', 'during', 'before', \n",
        "             'after', 'above', 'below', 'to', 'from', 'up', 'down', 'in', 'out', 'on', 'off', 'over', 'under', \n",
        "             'again', 'further', 'then', 'once', 'here', 'there', 'when', 'where', 'why', 'how', 'all', 'any', \n",
        "             'both', 'each', 'few', 'more', 'most', 'other', 'some', 'such', 'no', 'nor', 'not', 'only', 'own', \n",
        "             'same', 'so', 'than', 'too', 'very', 's', 't', 'can', 'will', 'just', 'don', \"don't\", 'should', \n",
        "             \"should've\", 'now', 'd', 'll', 'm', 'o', 're', 've', 'y', 'ain', 'aren', \"aren't\", 'couldn', \n",
        "             \"couldn't\", 'didn', \"didn't\", 'doesn', \"doesn't\", 'hadn', \"hadn't\", 'hasn', \"hasn't\", 'haven', \n",
        "             \"haven't\", 'isn', \"isn't\", 'ma', 'mightn', \"mightn't\", 'mustn', \"mustn't\", 'needn', \"needn't\", \n",
        "             'shan', \"shan't\", 'shouldn', \"shouldn't\", 'wasn', \"wasn't\", 'weren', \"weren't\", 'won', \"won't\", \n",
        "             'wouldn', \"wouldn't\",\"say\"]"
      ],
      "execution_count": 0,
      "outputs": []
    },
    {
      "cell_type": "code",
      "metadata": {
        "id": "dNsi3VA5Wkvt",
        "colab_type": "code",
        "colab": {}
      },
      "source": [
        "def remove_punctuations(text):\n",
        "    for punctuation in string.punctuation:\n",
        "        text = text.replace(punctuation, '')\n",
        "    return text"
      ],
      "execution_count": 0,
      "outputs": []
    },
    {
      "cell_type": "code",
      "metadata": {
        "id": "Mn9kDDSzWk68",
        "colab_type": "code",
        "colab": {}
      },
      "source": [
        "tokenizer = RegexpTokenizer(r'\\w+')"
      ],
      "execution_count": 0,
      "outputs": []
    },
    {
      "cell_type": "code",
      "metadata": {
        "id": "Y6WIY0_Ip8OH",
        "colab_type": "code",
        "colab": {}
      },
      "source": [
        "def preprocess(text):\n",
        "    data =''\n",
        "    for token in tokenizer.tokenize(text):\n",
        "        token=token.lower()\n",
        "        token=WordNetLemmatizer().lemmatize(token,pos='v')\n",
        "        if token not in stopwords and len (token)>2 :\n",
        "            data=data+(token)+' '\n",
        "    return data"
      ],
      "execution_count": 0,
      "outputs": []
    },
    {
      "cell_type": "code",
      "metadata": {
        "id": "7ESKFZUPW7fr",
        "colab_type": "code",
        "colab": {}
      },
      "source": [
        "Cleaned_Data = data['Suggestions'].map(preprocess)"
      ],
      "execution_count": 0,
      "outputs": []
    },
    {
      "cell_type": "code",
      "metadata": {
        "id": "4QhwTriPqSnt",
        "colab_type": "code",
        "outputId": "34ccbf66-d4c0-4fcc-bce9-9fea8f9c3e86",
        "colab": {
          "base_uri": "https://localhost:8080/",
          "height": 35
        }
      },
      "source": [
        "Cleaned_Data[0]"
      ],
      "execution_count": 24,
      "outputs": [
        {
          "output_type": "execute_result",
          "data": {
            "text/plain": [
              "'question repetitive result duplicate answer '"
            ]
          },
          "metadata": {
            "tags": []
          },
          "execution_count": 24
        }
      ]
    },
    {
      "cell_type": "code",
      "metadata": {
        "id": "jMK7QgmQ1x30",
        "colab_type": "code",
        "colab": {}
      },
      "source": [
        "df=pd.DataFrame(Cleaned_Data)"
      ],
      "execution_count": 0,
      "outputs": []
    },
    {
      "cell_type": "code",
      "metadata": {
        "id": "-E0lqBM2XUOE",
        "colab_type": "code",
        "colab": {
          "base_uri": "https://localhost:8080/",
          "height": 202
        },
        "outputId": "5f4105d0-e2d6-4f75-d562-6d34da852265"
      },
      "source": [
        "df.head()"
      ],
      "execution_count": 29,
      "outputs": [
        {
          "output_type": "execute_result",
          "data": {
            "text/html": [
              "<div>\n",
              "<style scoped>\n",
              "    .dataframe tbody tr th:only-of-type {\n",
              "        vertical-align: middle;\n",
              "    }\n",
              "\n",
              "    .dataframe tbody tr th {\n",
              "        vertical-align: top;\n",
              "    }\n",
              "\n",
              "    .dataframe thead th {\n",
              "        text-align: right;\n",
              "    }\n",
              "</style>\n",
              "<table border=\"1\" class=\"dataframe\">\n",
              "  <thead>\n",
              "    <tr style=\"text-align: right;\">\n",
              "      <th></th>\n",
              "      <th>Suggestions</th>\n",
              "    </tr>\n",
              "  </thead>\n",
              "  <tbody>\n",
              "    <tr>\n",
              "      <th>0</th>\n",
              "      <td>question repetitive result duplicate answer</td>\n",
              "    </tr>\n",
              "    <tr>\n",
              "      <th>1</th>\n",
              "      <td>felt like repetitive would faster talk someone...</td>\n",
              "    </tr>\n",
              "    <tr>\n",
              "      <th>2</th>\n",
              "      <td>mri later knee surgery two different instance ...</td>\n",
              "    </tr>\n",
              "    <tr>\n",
              "      <th>3</th>\n",
              "      <td>question apply</td>\n",
              "    </tr>\n",
              "    <tr>\n",
              "      <th>4</th>\n",
              "      <td>hat experience try capture detail interface fr...</td>\n",
              "    </tr>\n",
              "  </tbody>\n",
              "</table>\n",
              "</div>"
            ],
            "text/plain": [
              "                                         Suggestions\n",
              "0       question repetitive result duplicate answer \n",
              "1  felt like repetitive would faster talk someone...\n",
              "2  mri later knee surgery two different instance ...\n",
              "3                                    question apply \n",
              "4  hat experience try capture detail interface fr..."
            ]
          },
          "metadata": {
            "tags": []
          },
          "execution_count": 29
        }
      ]
    },
    {
      "cell_type": "code",
      "metadata": {
        "id": "cDtvEMXAZs9e",
        "colab_type": "code",
        "colab": {}
      },
      "source": [
        "df=df[(df['Suggestions']).str.len()>1]"
      ],
      "execution_count": 0,
      "outputs": []
    },
    {
      "cell_type": "code",
      "metadata": {
        "id": "c-0xqiVgqZg8",
        "colab_type": "code",
        "outputId": "92af3be2-95c9-4e2d-f49a-a8ef2015aad8",
        "colab": {
          "base_uri": "https://localhost:8080/",
          "height": 1000
        }
      },
      "source": [
        "# set up empty tensor\n",
        "X = torch.empty(size=(len(df.index), 7168)).cuda()\n",
        "# fill tensor with embeddings\n",
        "i=0\n",
        "for text in tqdm(df['Suggestions']):\n",
        "    sentence = Sentence(text)\n",
        "    document_embeddings.embed(sentence)\n",
        "    embedding = sentence.get_embedding()\n",
        "    X[i] = embedding\n",
        "    i += 1"
      ],
      "execution_count": 35,
      "outputs": [
        {
          "output_type": "stream",
          "text": [
            "\n",
            "  0%|          | 0/1178 [00:00<?, ?it/s]\u001b[A\n",
            "  0%|          | 3/1178 [00:00<00:48, 24.26it/s]\u001b[A\n",
            "  1%|          | 6/1178 [00:00<00:47, 24.88it/s]\u001b[A\n",
            "  1%|          | 9/1178 [00:00<00:47, 24.73it/s]\u001b[A\n",
            "  1%|          | 12/1178 [00:00<00:46, 24.94it/s]\u001b[A\n",
            "  1%|▏         | 15/1178 [00:00<00:46, 25.08it/s]\u001b[A\n",
            "  2%|▏         | 18/1178 [00:00<00:52, 22.22it/s]\u001b[A\n",
            "  2%|▏         | 20/1178 [00:00<00:56, 20.58it/s]\u001b[A\n",
            "  2%|▏         | 22/1178 [00:00<00:57, 20.16it/s]\u001b[A\n",
            "  2%|▏         | 25/1178 [00:01<00:55, 20.72it/s]\u001b[A\n",
            "  2%|▏         | 28/1178 [00:01<00:52, 22.04it/s]\u001b[A\n",
            "  3%|▎         | 31/1178 [00:01<00:49, 22.98it/s]\u001b[A\n",
            "  3%|▎         | 34/1178 [00:01<00:54, 20.98it/s]\u001b[A\n",
            "  3%|▎         | 37/1178 [00:01<00:58, 19.44it/s]\u001b[A\n",
            "  3%|▎         | 39/1178 [00:01<01:12, 15.81it/s]\u001b[A\n",
            "  4%|▎         | 42/1178 [00:02<01:08, 16.59it/s]\u001b[A\n",
            "  4%|▎         | 44/1178 [00:02<01:14, 15.18it/s]\u001b[A\n",
            "  4%|▍         | 46/1178 [00:02<01:11, 15.87it/s]\u001b[A\n",
            "  4%|▍         | 49/1178 [00:02<01:03, 17.86it/s]\u001b[A\n",
            "  4%|▍         | 51/1178 [00:02<01:01, 18.44it/s]\u001b[A\n",
            "  4%|▍         | 53/1178 [00:02<01:02, 17.93it/s]\u001b[A\n",
            "  5%|▍         | 56/1178 [00:02<00:59, 18.95it/s]\u001b[A\n",
            "  5%|▌         | 59/1178 [00:02<00:56, 19.79it/s]\u001b[A\n",
            "  5%|▌         | 62/1178 [00:03<01:08, 16.28it/s]\u001b[A\n",
            "  5%|▌         | 64/1178 [00:03<01:09, 16.06it/s]\u001b[A\n",
            "  6%|▌         | 67/1178 [00:03<01:02, 17.87it/s]\u001b[A\n",
            "  6%|▌         | 69/1178 [00:03<01:00, 18.35it/s]\u001b[A\n",
            "  6%|▌         | 72/1178 [00:03<00:57, 19.39it/s]\u001b[A\n",
            "  6%|▋         | 75/1178 [00:03<00:58, 18.87it/s]\u001b[A\n",
            "  7%|▋         | 77/1178 [00:03<00:58, 18.76it/s]\u001b[A\n",
            "  7%|▋         | 79/1178 [00:04<01:11, 15.42it/s]\u001b[A\n",
            "  7%|▋         | 81/1178 [00:04<01:06, 16.50it/s]\u001b[A\n",
            "  7%|▋         | 84/1178 [00:04<01:00, 17.97it/s]\u001b[A\n",
            "  7%|▋         | 87/1178 [00:04<00:55, 19.83it/s]\u001b[A\n",
            "  8%|▊         | 90/1178 [00:04<00:56, 19.43it/s]\u001b[A\n",
            "  8%|▊         | 93/1178 [00:04<00:59, 18.37it/s]\u001b[A\n",
            "  8%|▊         | 95/1178 [00:04<01:05, 16.61it/s]\u001b[A\n",
            "  8%|▊         | 98/1178 [00:05<01:01, 17.48it/s]\u001b[A\n",
            "  9%|▊         | 102/1178 [00:05<00:53, 20.16it/s]\u001b[A\n",
            "  9%|▉         | 105/1178 [00:05<00:55, 19.17it/s]\u001b[A\n",
            "  9%|▉         | 108/1178 [00:05<00:55, 19.14it/s]\u001b[A\n",
            "  9%|▉         | 111/1178 [00:05<00:53, 20.07it/s]\u001b[A\n",
            " 10%|▉         | 114/1178 [00:05<00:50, 21.09it/s]\u001b[A\n",
            " 10%|▉         | 117/1178 [00:06<00:55, 19.27it/s]\u001b[A\n",
            " 10%|█         | 120/1178 [00:06<00:50, 21.09it/s]\u001b[A\n",
            " 10%|█         | 123/1178 [00:06<00:48, 21.78it/s]\u001b[A\n",
            " 11%|█         | 126/1178 [00:06<01:02, 16.92it/s]\u001b[A\n",
            " 11%|█         | 129/1178 [00:06<00:55, 18.94it/s]\u001b[A\n",
            " 11%|█         | 132/1178 [00:06<00:50, 20.81it/s]\u001b[A\n",
            " 11%|█▏        | 135/1178 [00:06<00:48, 21.30it/s]\u001b[A\n",
            " 12%|█▏        | 138/1178 [00:07<00:47, 21.71it/s]\u001b[A\n",
            " 12%|█▏        | 141/1178 [00:07<00:46, 22.43it/s]\u001b[A\n",
            " 12%|█▏        | 144/1178 [00:07<00:44, 23.21it/s]\u001b[A\n",
            " 12%|█▏        | 147/1178 [00:07<00:45, 22.75it/s]\u001b[A\n",
            " 13%|█▎        | 150/1178 [00:07<00:48, 21.28it/s]\u001b[A\n",
            " 13%|█▎        | 153/1178 [00:07<00:48, 21.19it/s]\u001b[A\n",
            " 13%|█▎        | 156/1178 [00:07<00:47, 21.48it/s]\u001b[A\n",
            " 13%|█▎        | 159/1178 [00:07<00:46, 21.86it/s]\u001b[A\n",
            " 14%|█▍        | 162/1178 [00:08<00:47, 21.27it/s]\u001b[A\n",
            " 14%|█▍        | 165/1178 [00:08<00:51, 19.82it/s]\u001b[A\n",
            " 14%|█▍        | 168/1178 [00:08<00:51, 19.58it/s]\u001b[A\n",
            " 14%|█▍        | 170/1178 [00:08<01:06, 15.19it/s]\u001b[A\n",
            " 15%|█▍        | 173/1178 [00:08<00:58, 17.05it/s]\u001b[A\n",
            " 15%|█▍        | 175/1178 [00:08<00:57, 17.53it/s]\u001b[A\n",
            " 15%|█▌        | 177/1178 [00:09<01:01, 16.30it/s]\u001b[A\n",
            " 15%|█▌        | 180/1178 [00:09<00:55, 18.14it/s]\u001b[A\n",
            " 15%|█▌        | 182/1178 [00:09<00:58, 16.99it/s]\u001b[A\n",
            " 16%|█▌        | 185/1178 [00:09<00:52, 19.09it/s]\u001b[A\n",
            " 16%|█▌        | 188/1178 [00:09<00:49, 19.96it/s]\u001b[A\n",
            " 16%|█▌        | 191/1178 [00:09<00:48, 20.53it/s]\u001b[A\n",
            " 16%|█▋        | 194/1178 [00:09<00:46, 20.95it/s]\u001b[A\n",
            " 17%|█▋        | 197/1178 [00:09<00:45, 21.77it/s]\u001b[A\n",
            " 17%|█▋        | 200/1178 [00:10<00:47, 20.70it/s]\u001b[A\n",
            " 17%|█▋        | 203/1178 [00:10<00:47, 20.42it/s]\u001b[A\n",
            " 17%|█▋        | 206/1178 [00:10<00:52, 18.51it/s]\u001b[A\n",
            " 18%|█▊        | 209/1178 [00:10<00:52, 18.59it/s]\u001b[A\n",
            " 18%|█▊        | 212/1178 [00:10<00:50, 19.14it/s]\u001b[A\n",
            " 18%|█▊        | 214/1178 [00:10<00:50, 19.24it/s]\u001b[A\n",
            " 18%|█▊        | 217/1178 [00:11<00:47, 20.05it/s]\u001b[A\n",
            " 19%|█▊        | 220/1178 [00:11<00:49, 19.17it/s]\u001b[A\n",
            " 19%|█▉        | 223/1178 [00:11<00:47, 19.96it/s]\u001b[A\n",
            " 19%|█▉        | 226/1178 [00:11<00:45, 21.07it/s]\u001b[A\n",
            " 19%|█▉        | 229/1178 [00:11<00:45, 20.70it/s]\u001b[A\n",
            " 20%|█▉        | 232/1178 [00:11<00:46, 20.24it/s]\u001b[A\n",
            " 20%|█▉        | 235/1178 [00:11<00:42, 22.14it/s]\u001b[A\n",
            " 20%|██        | 238/1178 [00:12<00:47, 19.93it/s]\u001b[A\n",
            " 20%|██        | 241/1178 [00:12<00:50, 18.56it/s]\u001b[A\n",
            " 21%|██        | 243/1178 [00:12<00:54, 17.19it/s]\u001b[A\n",
            " 21%|██        | 246/1178 [00:12<00:51, 17.98it/s]\u001b[A\n",
            " 21%|██        | 249/1178 [00:12<00:47, 19.69it/s]\u001b[A\n",
            " 21%|██▏       | 252/1178 [00:12<00:47, 19.68it/s]\u001b[A\n",
            " 22%|██▏       | 255/1178 [00:13<00:58, 15.71it/s]\u001b[A\n",
            " 22%|██▏       | 258/1178 [00:13<00:51, 17.81it/s]\u001b[A\n",
            " 22%|██▏       | 260/1178 [00:13<00:51, 17.80it/s]\u001b[A\n",
            " 22%|██▏       | 263/1178 [00:13<00:47, 19.15it/s]\u001b[A\n",
            " 23%|██▎       | 266/1178 [00:13<00:57, 15.98it/s]\u001b[A\n",
            " 23%|██▎       | 269/1178 [00:13<00:51, 17.60it/s]\u001b[A\n",
            " 23%|██▎       | 272/1178 [00:13<00:48, 18.82it/s]\u001b[A\n",
            " 23%|██▎       | 275/1178 [00:14<00:48, 18.67it/s]\u001b[A\n",
            " 24%|██▎       | 278/1178 [00:14<00:44, 20.32it/s]\u001b[A\n",
            " 24%|██▍       | 281/1178 [00:14<00:43, 20.55it/s]\u001b[A\n",
            " 24%|██▍       | 284/1178 [00:14<00:43, 20.47it/s]\u001b[A\n",
            " 24%|██▍       | 287/1178 [00:14<00:43, 20.54it/s]\u001b[A\n",
            " 25%|██▍       | 290/1178 [00:14<00:52, 16.83it/s]\u001b[A\n",
            " 25%|██▍       | 293/1178 [00:15<00:52, 16.84it/s]\u001b[A\n",
            " 25%|██▌       | 296/1178 [00:15<00:46, 18.87it/s]\u001b[A\n",
            " 25%|██▌       | 299/1178 [00:15<00:46, 19.09it/s]\u001b[A\n",
            " 26%|██▌       | 302/1178 [00:15<00:44, 19.78it/s]\u001b[A\n",
            " 26%|██▌       | 305/1178 [00:15<00:41, 21.28it/s]\u001b[A\n",
            " 26%|██▌       | 308/1178 [00:15<00:40, 21.36it/s]\u001b[A\n",
            " 26%|██▋       | 311/1178 [00:15<00:39, 21.71it/s]\u001b[A\n",
            " 27%|██▋       | 314/1178 [00:15<00:38, 22.52it/s]\u001b[A\n",
            " 27%|██▋       | 317/1178 [00:16<00:50, 16.96it/s]\u001b[A\n",
            " 27%|██▋       | 320/1178 [00:16<00:46, 18.60it/s]\u001b[A\n",
            " 27%|██▋       | 323/1178 [00:16<00:42, 19.94it/s]\u001b[A\n",
            " 28%|██▊       | 326/1178 [00:16<00:43, 19.52it/s]\u001b[A\n",
            " 28%|██▊       | 329/1178 [00:16<00:42, 19.95it/s]\u001b[A\n",
            " 28%|██▊       | 332/1178 [00:16<00:39, 21.17it/s]\u001b[A\n",
            " 28%|██▊       | 335/1178 [00:17<00:42, 19.81it/s]\u001b[A\n",
            " 29%|██▊       | 338/1178 [00:17<00:40, 20.72it/s]\u001b[A\n",
            " 29%|██▉       | 341/1178 [00:17<00:37, 22.25it/s]\u001b[A\n",
            " 29%|██▉       | 344/1178 [00:17<00:40, 20.45it/s]\u001b[A\n",
            " 29%|██▉       | 347/1178 [00:17<00:48, 17.30it/s]\u001b[A\n",
            " 30%|██▉       | 349/1178 [00:17<00:48, 17.12it/s]\u001b[A\n",
            " 30%|██▉       | 352/1178 [00:18<00:45, 17.99it/s]\u001b[A\n",
            " 30%|███       | 354/1178 [00:18<00:44, 18.45it/s]\u001b[A\n",
            " 30%|███       | 357/1178 [00:18<00:40, 20.12it/s]\u001b[A\n",
            " 31%|███       | 360/1178 [00:18<00:39, 20.52it/s]\u001b[A\n",
            " 31%|███       | 363/1178 [00:18<00:40, 20.09it/s]\u001b[A\n",
            " 31%|███       | 366/1178 [00:18<00:41, 19.65it/s]\u001b[A\n",
            " 31%|███       | 368/1178 [00:18<00:45, 17.83it/s]\u001b[A\n",
            " 31%|███▏      | 371/1178 [00:18<00:41, 19.62it/s]\u001b[A\n",
            " 32%|███▏      | 374/1178 [00:19<00:39, 20.52it/s]\u001b[A\n",
            " 32%|███▏      | 377/1178 [00:19<00:35, 22.38it/s]\u001b[A\n",
            " 32%|███▏      | 380/1178 [00:19<00:39, 20.37it/s]\u001b[A\n",
            " 33%|███▎      | 383/1178 [00:19<00:43, 18.49it/s]\u001b[A\n",
            " 33%|███▎      | 386/1178 [00:19<00:39, 20.20it/s]\u001b[A\n",
            " 33%|███▎      | 389/1178 [00:19<00:40, 19.42it/s]\u001b[A\n",
            " 33%|███▎      | 392/1178 [00:20<00:40, 19.64it/s]\u001b[A\n",
            " 34%|███▎      | 395/1178 [00:20<00:41, 18.66it/s]\u001b[A\n",
            " 34%|███▍      | 398/1178 [00:20<00:39, 19.68it/s]\u001b[A\n",
            " 34%|███▍      | 401/1178 [00:20<00:41, 18.89it/s]\u001b[A\n",
            " 34%|███▍      | 404/1178 [00:20<00:39, 19.82it/s]\u001b[A\n",
            " 35%|███▍      | 407/1178 [00:20<00:36, 21.12it/s]\u001b[A\n",
            " 35%|███▍      | 410/1178 [00:20<00:35, 21.56it/s]\u001b[A\n",
            " 35%|███▌      | 413/1178 [00:21<00:38, 20.04it/s]\u001b[A\n",
            " 35%|███▌      | 416/1178 [00:21<00:36, 20.60it/s]\u001b[A\n",
            " 36%|███▌      | 419/1178 [00:21<00:36, 20.65it/s]\u001b[A\n",
            " 36%|███▌      | 422/1178 [00:21<00:37, 19.90it/s]\u001b[A\n",
            " 36%|███▌      | 425/1178 [00:21<00:39, 18.85it/s]\u001b[A\n",
            " 36%|███▋      | 428/1178 [00:21<00:36, 20.30it/s]\u001b[A\n",
            " 37%|███▋      | 431/1178 [00:21<00:36, 20.39it/s]\u001b[A\n",
            " 37%|███▋      | 434/1178 [00:22<00:37, 19.82it/s]\u001b[A\n",
            " 37%|███▋      | 437/1178 [00:22<00:37, 19.77it/s]\u001b[A\n",
            " 37%|███▋      | 439/1178 [00:22<00:37, 19.62it/s]\u001b[A\n",
            " 38%|███▊      | 442/1178 [00:22<00:36, 20.40it/s]\u001b[A\n",
            " 38%|███▊      | 445/1178 [00:22<00:37, 19.37it/s]\u001b[A\n",
            " 38%|███▊      | 448/1178 [00:22<00:35, 20.54it/s]\u001b[A\n",
            " 38%|███▊      | 451/1178 [00:22<00:37, 19.18it/s]\u001b[A\n",
            " 38%|███▊      | 453/1178 [00:23<00:39, 18.47it/s]\u001b[A\n",
            " 39%|███▊      | 456/1178 [00:23<00:37, 19.49it/s]\u001b[A\n",
            " 39%|███▉      | 459/1178 [00:23<00:37, 19.07it/s]\u001b[A\n",
            " 39%|███▉      | 462/1178 [00:23<00:35, 20.06it/s]\u001b[A\n",
            " 39%|███▉      | 465/1178 [00:23<00:40, 17.55it/s]\u001b[A\n",
            " 40%|███▉      | 467/1178 [00:23<00:43, 16.25it/s]\u001b[A\n",
            " 40%|███▉      | 469/1178 [00:24<00:41, 17.00it/s]\u001b[A\n",
            " 40%|███▉      | 471/1178 [00:24<00:42, 16.58it/s]\u001b[A\n",
            " 40%|████      | 473/1178 [00:24<00:41, 16.86it/s]\u001b[A\n",
            " 40%|████      | 475/1178 [00:24<00:40, 17.49it/s]\u001b[A\n",
            " 41%|████      | 478/1178 [00:24<00:35, 19.72it/s]\u001b[A\n",
            " 41%|████      | 481/1178 [00:24<00:38, 18.27it/s]\u001b[A\n",
            " 41%|████      | 484/1178 [00:24<00:36, 18.80it/s]\u001b[A\n",
            " 41%|████▏     | 487/1178 [00:24<00:34, 20.28it/s]\u001b[A\n",
            " 42%|████▏     | 490/1178 [00:25<00:33, 20.36it/s]\u001b[A\n",
            " 42%|████▏     | 493/1178 [00:25<00:33, 20.64it/s]\u001b[A\n",
            " 42%|████▏     | 496/1178 [00:25<00:34, 20.00it/s]\u001b[A\n",
            " 42%|████▏     | 499/1178 [00:25<00:32, 20.99it/s]\u001b[A\n",
            " 43%|████▎     | 502/1178 [00:25<00:32, 21.01it/s]\u001b[A\n",
            " 43%|████▎     | 505/1178 [00:25<00:32, 20.79it/s]\u001b[A\n",
            " 43%|████▎     | 508/1178 [00:25<00:36, 18.58it/s]\u001b[A\n",
            " 43%|████▎     | 510/1178 [00:26<00:35, 18.88it/s]\u001b[A\n",
            " 43%|████▎     | 512/1178 [00:26<00:39, 16.71it/s]\u001b[A\n",
            " 44%|████▎     | 514/1178 [00:26<00:39, 16.90it/s]\u001b[A\n",
            " 44%|████▍     | 516/1178 [00:26<00:37, 17.53it/s]\u001b[A\n",
            " 44%|████▍     | 519/1178 [00:26<00:35, 18.54it/s]\u001b[A\n",
            " 44%|████▍     | 521/1178 [00:26<00:34, 18.93it/s]\u001b[A\n",
            " 44%|████▍     | 523/1178 [00:26<00:38, 16.87it/s]\u001b[A\n",
            " 45%|████▍     | 525/1178 [00:26<00:37, 17.25it/s]\u001b[A\n",
            " 45%|████▍     | 527/1178 [00:27<00:37, 17.56it/s]\u001b[A\n",
            " 45%|████▍     | 530/1178 [00:27<00:33, 19.47it/s]\u001b[A\n",
            " 45%|████▌     | 533/1178 [00:27<00:32, 19.74it/s]\u001b[A\n",
            " 46%|████▌     | 536/1178 [00:27<00:30, 20.74it/s]\u001b[A\n",
            " 46%|████▌     | 539/1178 [00:27<00:29, 21.75it/s]\u001b[A\n",
            " 46%|████▌     | 542/1178 [00:27<00:33, 19.20it/s]\u001b[A\n",
            " 46%|████▋     | 545/1178 [00:27<00:31, 20.03it/s]\u001b[A\n",
            " 47%|████▋     | 548/1178 [00:28<00:32, 19.68it/s]\u001b[A\n",
            " 47%|████▋     | 551/1178 [00:28<00:30, 20.60it/s]\u001b[A\n",
            " 47%|████▋     | 554/1178 [00:28<00:31, 19.98it/s]\u001b[A\n",
            " 47%|████▋     | 557/1178 [00:28<00:32, 18.86it/s]\u001b[A\n",
            " 48%|████▊     | 560/1178 [00:28<00:31, 19.44it/s]\u001b[A\n",
            " 48%|████▊     | 563/1178 [00:28<00:29, 20.86it/s]\u001b[A\n",
            " 48%|████▊     | 566/1178 [00:28<00:27, 22.15it/s]\u001b[A\n",
            " 48%|████▊     | 569/1178 [00:29<00:27, 22.51it/s]\u001b[A\n",
            " 49%|████▊     | 572/1178 [00:29<00:25, 23.41it/s]\u001b[A\n",
            " 49%|████▉     | 575/1178 [00:29<00:26, 22.39it/s]\u001b[A\n",
            " 49%|████▉     | 578/1178 [00:29<00:28, 20.74it/s]\u001b[A\n",
            " 49%|████▉     | 581/1178 [00:29<00:27, 21.90it/s]\u001b[A\n",
            " 50%|████▉     | 584/1178 [00:29<00:29, 19.86it/s]\u001b[A\n",
            " 50%|████▉     | 587/1178 [00:30<00:33, 17.40it/s]\u001b[A\n",
            " 50%|█████     | 590/1178 [00:30<00:30, 18.98it/s]\u001b[A\n",
            " 50%|█████     | 593/1178 [00:30<00:31, 18.44it/s]\u001b[A\n",
            " 51%|█████     | 595/1178 [00:30<00:40, 14.45it/s]\u001b[A\n",
            " 51%|█████     | 597/1178 [00:30<00:39, 14.53it/s]\u001b[A\n",
            " 51%|█████     | 599/1178 [00:30<00:36, 15.75it/s]\u001b[A\n",
            " 51%|█████     | 602/1178 [00:30<00:33, 17.19it/s]\u001b[A\n",
            " 51%|█████▏    | 605/1178 [00:31<00:31, 18.41it/s]\u001b[A\n",
            " 52%|█████▏    | 607/1178 [00:31<00:30, 18.49it/s]\u001b[A\n",
            " 52%|█████▏    | 610/1178 [00:31<00:29, 19.11it/s]\u001b[A\n",
            " 52%|█████▏    | 613/1178 [00:31<00:27, 20.38it/s]\u001b[A\n",
            " 52%|█████▏    | 616/1178 [00:31<00:32, 17.39it/s]\u001b[A\n",
            " 53%|█████▎    | 619/1178 [00:31<00:30, 18.15it/s]\u001b[A\n",
            " 53%|█████▎    | 622/1178 [00:31<00:30, 17.97it/s]\u001b[A\n",
            " 53%|█████▎    | 625/1178 [00:32<00:29, 18.74it/s]\u001b[A\n",
            " 53%|█████▎    | 627/1178 [00:32<00:33, 16.46it/s]\u001b[A\n",
            " 53%|█████▎    | 629/1178 [00:32<00:33, 16.56it/s]\u001b[A\n",
            " 54%|█████▎    | 631/1178 [00:32<00:31, 17.44it/s]\u001b[A\n",
            " 54%|█████▍    | 634/1178 [00:32<00:27, 19.85it/s]\u001b[A\n",
            " 54%|█████▍    | 637/1178 [00:32<00:27, 19.33it/s]\u001b[A\n",
            " 54%|█████▍    | 640/1178 [00:32<00:28, 18.87it/s]\u001b[A\n",
            " 54%|█████▍    | 642/1178 [00:33<00:29, 18.14it/s]\u001b[A\n",
            " 55%|█████▍    | 644/1178 [00:33<00:30, 17.39it/s]\u001b[A\n",
            " 55%|█████▍    | 647/1178 [00:33<00:27, 19.09it/s]\u001b[A\n",
            " 55%|█████▌    | 649/1178 [00:33<00:28, 18.66it/s]\u001b[A\n",
            " 55%|█████▌    | 651/1178 [00:33<00:28, 18.69it/s]\u001b[A\n",
            " 55%|█████▌    | 653/1178 [00:33<00:28, 18.56it/s]\u001b[A\n",
            " 56%|█████▌    | 655/1178 [00:33<00:31, 16.86it/s]\u001b[A\n",
            " 56%|█████▌    | 658/1178 [00:33<00:28, 18.44it/s]\u001b[A\n",
            " 56%|█████▌    | 661/1178 [00:33<00:25, 20.03it/s]\u001b[A\n",
            " 56%|█████▋    | 664/1178 [00:34<00:25, 20.35it/s]\u001b[A\n",
            " 57%|█████▋    | 667/1178 [00:34<00:27, 18.45it/s]\u001b[A\n",
            " 57%|█████▋    | 670/1178 [00:34<00:26, 18.96it/s]\u001b[A\n",
            " 57%|█████▋    | 673/1178 [00:34<00:24, 21.03it/s]\u001b[A\n",
            " 57%|█████▋    | 676/1178 [00:34<00:22, 21.87it/s]\u001b[A\n",
            " 58%|█████▊    | 679/1178 [00:34<00:23, 21.39it/s]\u001b[A\n",
            " 58%|█████▊    | 682/1178 [00:35<00:24, 20.41it/s]\u001b[A\n",
            " 58%|█████▊    | 685/1178 [00:35<00:23, 20.61it/s]\u001b[A\n",
            " 58%|█████▊    | 688/1178 [00:35<00:22, 21.51it/s]\u001b[A\n",
            " 59%|█████▊    | 691/1178 [00:35<00:22, 21.20it/s]\u001b[A\n",
            " 59%|█████▉    | 694/1178 [00:35<00:25, 19.17it/s]\u001b[A\n",
            " 59%|█████▉    | 696/1178 [00:35<00:25, 19.01it/s]\u001b[A\n",
            " 59%|█████▉    | 699/1178 [00:35<00:22, 20.83it/s]\u001b[A\n",
            " 60%|█████▉    | 702/1178 [00:35<00:22, 21.00it/s]\u001b[A\n",
            " 60%|█████▉    | 705/1178 [00:36<00:23, 19.94it/s]\u001b[A\n",
            " 60%|██████    | 708/1178 [00:36<00:24, 19.47it/s]\u001b[A\n",
            " 60%|██████    | 710/1178 [00:36<00:24, 18.77it/s]\u001b[A\n",
            " 61%|██████    | 713/1178 [00:36<00:26, 17.35it/s]\u001b[A\n",
            " 61%|██████    | 715/1178 [00:36<00:26, 17.50it/s]\u001b[A\n",
            " 61%|██████    | 718/1178 [00:36<00:25, 18.01it/s]\u001b[A\n",
            " 61%|██████    | 720/1178 [00:37<00:26, 17.37it/s]\u001b[A\n",
            " 61%|██████▏   | 723/1178 [00:37<00:24, 18.82it/s]\u001b[A\n",
            " 62%|██████▏   | 726/1178 [00:37<00:23, 18.96it/s]\u001b[A\n",
            " 62%|██████▏   | 728/1178 [00:37<00:23, 19.24it/s]\u001b[A\n",
            " 62%|██████▏   | 731/1178 [00:37<00:21, 20.67it/s]\u001b[A\n",
            " 62%|██████▏   | 734/1178 [00:37<00:22, 20.01it/s]\u001b[A\n",
            " 63%|██████▎   | 737/1178 [00:37<00:21, 20.23it/s]\u001b[A\n",
            " 63%|██████▎   | 740/1178 [00:37<00:22, 19.72it/s]\u001b[A\n",
            " 63%|██████▎   | 743/1178 [00:38<00:21, 20.43it/s]\u001b[A\n",
            " 63%|██████▎   | 746/1178 [00:38<00:20, 21.46it/s]\u001b[A\n",
            " 64%|██████▎   | 749/1178 [00:38<00:20, 21.13it/s]\u001b[A\n",
            " 64%|██████▍   | 752/1178 [00:38<00:20, 20.37it/s]\u001b[A\n",
            " 64%|██████▍   | 755/1178 [00:38<00:23, 17.94it/s]\u001b[A\n",
            " 64%|██████▍   | 757/1178 [00:38<00:27, 15.53it/s]\u001b[A\n",
            " 64%|██████▍   | 759/1178 [00:39<00:26, 16.10it/s]\u001b[A\n",
            " 65%|██████▍   | 762/1178 [00:39<00:24, 17.31it/s]\u001b[A\n",
            " 65%|██████▍   | 764/1178 [00:39<00:24, 17.20it/s]\u001b[A\n",
            " 65%|██████▌   | 766/1178 [00:39<00:24, 16.70it/s]\u001b[A\n",
            " 65%|██████▌   | 769/1178 [00:39<00:22, 17.98it/s]\u001b[A\n",
            " 66%|██████▌   | 772/1178 [00:39<00:21, 18.51it/s]\u001b[A\n",
            " 66%|██████▌   | 775/1178 [00:39<00:20, 19.89it/s]\u001b[A\n",
            " 66%|██████▌   | 778/1178 [00:40<00:20, 19.31it/s]\u001b[A\n",
            " 66%|██████▋   | 781/1178 [00:40<00:19, 20.56it/s]\u001b[A\n",
            " 67%|██████▋   | 784/1178 [00:40<00:18, 21.06it/s]\u001b[A\n",
            " 67%|██████▋   | 787/1178 [00:40<00:20, 18.99it/s]\u001b[A\n",
            " 67%|██████▋   | 789/1178 [00:40<00:22, 17.22it/s]\u001b[A\n",
            " 67%|██████▋   | 791/1178 [00:40<00:22, 17.14it/s]\u001b[A\n",
            " 67%|██████▋   | 793/1178 [00:40<00:21, 17.58it/s]\u001b[A\n",
            " 67%|██████▋   | 795/1178 [00:40<00:22, 16.74it/s]\u001b[A\n",
            " 68%|██████▊   | 798/1178 [00:41<00:22, 16.97it/s]\u001b[A\n",
            " 68%|██████▊   | 801/1178 [00:41<00:20, 18.48it/s]\u001b[A\n",
            " 68%|██████▊   | 803/1178 [00:41<00:20, 18.37it/s]\u001b[A\n",
            " 68%|██████▊   | 805/1178 [00:41<00:19, 18.67it/s]\u001b[A\n",
            " 69%|██████▊   | 808/1178 [00:41<00:18, 20.00it/s]\u001b[A\n",
            " 69%|██████▉   | 811/1178 [00:41<00:18, 20.15it/s]\u001b[A\n",
            " 69%|██████▉   | 814/1178 [00:41<00:17, 20.68it/s]\u001b[A\n",
            " 69%|██████▉   | 817/1178 [00:42<00:18, 19.76it/s]\u001b[A\n",
            " 70%|██████▉   | 820/1178 [00:42<00:18, 19.70it/s]\u001b[A\n",
            " 70%|██████▉   | 823/1178 [00:42<00:17, 19.95it/s]\u001b[A\n",
            " 70%|███████   | 826/1178 [00:42<00:17, 20.59it/s]\u001b[A\n",
            " 70%|███████   | 830/1178 [00:42<00:15, 22.76it/s]\u001b[A\n",
            " 71%|███████   | 833/1178 [00:42<00:16, 21.49it/s]\u001b[A\n",
            " 71%|███████   | 836/1178 [00:42<00:14, 23.21it/s]\u001b[A\n",
            " 71%|███████   | 839/1178 [00:43<00:13, 24.37it/s]\u001b[A\n",
            " 71%|███████▏  | 842/1178 [00:43<00:14, 23.99it/s]\u001b[A\n",
            " 72%|███████▏  | 845/1178 [00:43<00:15, 21.92it/s]\u001b[A\n",
            " 72%|███████▏  | 848/1178 [00:43<00:15, 21.70it/s]\u001b[A\n",
            " 72%|███████▏  | 851/1178 [00:43<00:14, 22.17it/s]\u001b[A\n",
            " 72%|███████▏  | 854/1178 [00:43<00:15, 20.85it/s]\u001b[A\n",
            " 73%|███████▎  | 857/1178 [00:43<00:15, 21.14it/s]\u001b[A\n",
            " 73%|███████▎  | 860/1178 [00:44<00:16, 19.63it/s]\u001b[A\n",
            " 73%|███████▎  | 863/1178 [00:44<00:15, 19.98it/s]\u001b[A\n",
            " 74%|███████▎  | 866/1178 [00:44<00:14, 20.81it/s]\u001b[A\n",
            " 74%|███████▍  | 869/1178 [00:44<00:14, 21.70it/s]\u001b[A\n",
            " 74%|███████▍  | 872/1178 [00:44<00:14, 21.41it/s]\u001b[A\n",
            " 74%|███████▍  | 875/1178 [00:44<00:15, 19.48it/s]\u001b[A\n",
            " 74%|███████▍  | 877/1178 [00:44<00:15, 19.04it/s]\u001b[A\n",
            " 75%|███████▍  | 880/1178 [00:45<00:15, 19.71it/s]\u001b[A\n",
            " 75%|███████▍  | 883/1178 [00:45<00:14, 20.02it/s]\u001b[A\n",
            " 75%|███████▌  | 886/1178 [00:45<00:14, 20.51it/s]\u001b[A\n",
            " 75%|███████▌  | 889/1178 [00:45<00:14, 20.55it/s]\u001b[A\n",
            " 76%|███████▌  | 892/1178 [00:45<00:13, 20.50it/s]\u001b[A\n",
            " 76%|███████▌  | 895/1178 [00:45<00:13, 20.60it/s]\u001b[A\n",
            " 76%|███████▌  | 898/1178 [00:45<00:13, 20.78it/s]\u001b[A\n",
            " 76%|███████▋  | 901/1178 [00:46<00:15, 18.39it/s]\u001b[A\n",
            " 77%|███████▋  | 904/1178 [00:46<00:14, 19.22it/s]\u001b[A\n",
            " 77%|███████▋  | 907/1178 [00:46<00:13, 20.25it/s]\u001b[A\n",
            " 77%|███████▋  | 910/1178 [00:46<00:12, 20.91it/s]\u001b[A\n",
            " 78%|███████▊  | 913/1178 [00:46<00:12, 20.92it/s]\u001b[A\n",
            " 78%|███████▊  | 916/1178 [00:46<00:12, 21.76it/s]\u001b[A\n",
            " 78%|███████▊  | 919/1178 [00:46<00:11, 21.98it/s]\u001b[A\n",
            " 78%|███████▊  | 922/1178 [00:47<00:12, 20.29it/s]\u001b[A\n",
            " 79%|███████▊  | 925/1178 [00:47<00:11, 21.48it/s]\u001b[A\n",
            " 79%|███████▉  | 928/1178 [00:47<00:11, 21.07it/s]\u001b[A\n",
            " 79%|███████▉  | 931/1178 [00:47<00:11, 21.98it/s]\u001b[A\n",
            " 79%|███████▉  | 934/1178 [00:47<00:11, 21.39it/s]\u001b[A\n",
            " 80%|███████▉  | 937/1178 [00:47<00:11, 21.35it/s]\u001b[A\n",
            " 80%|███████▉  | 940/1178 [00:47<00:11, 20.42it/s]\u001b[A\n",
            " 80%|████████  | 943/1178 [00:48<00:12, 19.27it/s]\u001b[A\n",
            " 80%|████████  | 945/1178 [00:48<00:13, 17.75it/s]\u001b[A\n",
            " 80%|████████  | 947/1178 [00:48<00:12, 18.04it/s]\u001b[A\n",
            " 81%|████████  | 949/1178 [00:48<00:13, 16.80it/s]\u001b[A\n",
            " 81%|████████  | 952/1178 [00:48<00:12, 18.71it/s]\u001b[A\n",
            " 81%|████████  | 955/1178 [00:48<00:11, 19.59it/s]\u001b[A\n",
            " 81%|████████▏ | 958/1178 [00:48<00:10, 20.31it/s]\u001b[A\n",
            " 82%|████████▏ | 961/1178 [00:48<00:10, 21.04it/s]\u001b[A\n",
            " 82%|████████▏ | 964/1178 [00:49<00:10, 21.25it/s]\u001b[A\n",
            " 82%|████████▏ | 967/1178 [00:49<00:10, 21.10it/s]\u001b[A\n",
            " 82%|████████▏ | 970/1178 [00:49<00:10, 19.31it/s]\u001b[A\n",
            " 83%|████████▎ | 973/1178 [00:49<00:10, 19.82it/s]\u001b[A\n",
            " 83%|████████▎ | 976/1178 [00:49<00:09, 21.16it/s]\u001b[A\n",
            " 83%|████████▎ | 979/1178 [00:49<00:09, 21.08it/s]\u001b[A\n",
            " 83%|████████▎ | 982/1178 [00:50<00:09, 21.24it/s]\u001b[A\n",
            " 84%|████████▎ | 985/1178 [00:50<00:09, 20.99it/s]\u001b[A\n",
            " 84%|████████▍ | 988/1178 [00:50<00:08, 22.38it/s]\u001b[A\n",
            " 84%|████████▍ | 991/1178 [00:50<00:08, 21.77it/s]\u001b[A\n",
            " 84%|████████▍ | 994/1178 [00:50<00:08, 21.63it/s]\u001b[A\n",
            " 85%|████████▍ | 997/1178 [00:50<00:08, 22.43it/s]\u001b[A\n",
            " 85%|████████▍ | 1000/1178 [00:50<00:08, 20.85it/s]\u001b[A\n",
            " 85%|████████▌ | 1003/1178 [00:50<00:08, 21.43it/s]\u001b[A\n",
            " 85%|████████▌ | 1006/1178 [00:51<00:08, 19.12it/s]\u001b[A\n",
            " 86%|████████▌ | 1009/1178 [00:51<00:07, 21.24it/s]\u001b[A\n",
            " 86%|████████▌ | 1012/1178 [00:51<00:08, 20.66it/s]\u001b[A\n",
            " 86%|████████▌ | 1015/1178 [00:51<00:08, 19.93it/s]\u001b[A\n",
            " 86%|████████▋ | 1018/1178 [00:51<00:07, 21.25it/s]\u001b[A\n",
            " 87%|████████▋ | 1021/1178 [00:51<00:07, 21.49it/s]\u001b[A\n",
            " 87%|████████▋ | 1024/1178 [00:52<00:08, 18.75it/s]\u001b[A\n",
            " 87%|████████▋ | 1026/1178 [00:52<00:08, 17.84it/s]\u001b[A\n",
            " 87%|████████▋ | 1029/1178 [00:52<00:07, 18.92it/s]\u001b[A\n",
            " 88%|████████▊ | 1032/1178 [00:52<00:07, 19.62it/s]\u001b[A\n",
            " 88%|████████▊ | 1035/1178 [00:52<00:08, 16.02it/s]\u001b[A\n",
            " 88%|████████▊ | 1039/1178 [00:52<00:07, 18.02it/s]\u001b[A\n",
            " 88%|████████▊ | 1042/1178 [00:53<00:07, 19.39it/s]\u001b[A\n",
            " 89%|████████▊ | 1045/1178 [00:53<00:06, 19.38it/s]\u001b[A\n",
            " 89%|████████▉ | 1048/1178 [00:53<00:06, 18.84it/s]\u001b[A\n",
            " 89%|████████▉ | 1050/1178 [00:53<00:06, 19.06it/s]\u001b[A\n",
            " 89%|████████▉ | 1053/1178 [00:53<00:06, 19.21it/s]\u001b[A\n",
            " 90%|████████▉ | 1055/1178 [00:53<00:07, 16.07it/s]\u001b[A\n",
            " 90%|████████▉ | 1057/1178 [00:53<00:08, 15.11it/s]\u001b[A\n",
            " 90%|████████▉ | 1059/1178 [00:54<00:07, 15.76it/s]\u001b[A\n",
            " 90%|█████████ | 1062/1178 [00:54<00:06, 17.36it/s]\u001b[A\n",
            " 90%|█████████ | 1064/1178 [00:54<00:06, 17.51it/s]\u001b[A\n",
            " 91%|█████████ | 1067/1178 [00:54<00:05, 18.85it/s]\u001b[A\n",
            " 91%|█████████ | 1069/1178 [00:54<00:05, 18.92it/s]\u001b[A\n",
            " 91%|█████████ | 1071/1178 [00:54<00:05, 18.10it/s]\u001b[A\n",
            " 91%|█████████ | 1074/1178 [00:54<00:05, 19.76it/s]\u001b[A\n",
            " 91%|█████████▏| 1077/1178 [00:54<00:04, 20.41it/s]\u001b[A\n",
            " 92%|█████████▏| 1080/1178 [00:55<00:04, 20.03it/s]\u001b[A\n",
            " 92%|█████████▏| 1083/1178 [00:55<00:04, 20.44it/s]\u001b[A\n",
            " 92%|█████████▏| 1086/1178 [00:55<00:04, 21.61it/s]\u001b[A\n",
            " 92%|█████████▏| 1089/1178 [00:55<00:04, 20.70it/s]\u001b[A\n",
            " 93%|█████████▎| 1092/1178 [00:55<00:04, 20.34it/s]\u001b[A\n",
            " 93%|█████████▎| 1095/1178 [00:55<00:04, 20.74it/s]\u001b[A\n",
            " 93%|█████████▎| 1098/1178 [00:55<00:03, 22.25it/s]\u001b[A\n",
            " 93%|█████████▎| 1101/1178 [00:56<00:03, 20.68it/s]\u001b[A\n",
            " 94%|█████████▎| 1104/1178 [00:56<00:03, 22.05it/s]\u001b[A\n",
            " 94%|█████████▍| 1107/1178 [00:56<00:03, 19.22it/s]\u001b[A\n",
            " 94%|█████████▍| 1110/1178 [00:56<00:03, 19.54it/s]\u001b[A\n",
            " 94%|█████████▍| 1113/1178 [00:56<00:03, 19.42it/s]\u001b[A\n",
            " 95%|█████████▍| 1115/1178 [00:56<00:03, 18.96it/s]\u001b[A\n",
            " 95%|█████████▍| 1118/1178 [00:56<00:02, 20.83it/s]\u001b[A\n",
            " 95%|█████████▌| 1121/1178 [00:56<00:02, 21.58it/s]\u001b[A\n",
            " 95%|█████████▌| 1124/1178 [00:57<00:02, 18.88it/s]\u001b[A\n",
            " 96%|█████████▌| 1127/1178 [00:57<00:02, 19.77it/s]\u001b[A\n",
            " 96%|█████████▌| 1130/1178 [00:57<00:02, 21.69it/s]\u001b[A\n",
            " 96%|█████████▌| 1133/1178 [00:57<00:02, 21.15it/s]\u001b[A\n",
            " 96%|█████████▋| 1136/1178 [00:57<00:01, 21.27it/s]\u001b[A\n",
            " 97%|█████████▋| 1139/1178 [00:57<00:01, 22.10it/s]\u001b[A\n",
            " 97%|█████████▋| 1142/1178 [00:58<00:01, 20.21it/s]\u001b[A\n",
            " 97%|█████████▋| 1145/1178 [00:58<00:01, 20.06it/s]\u001b[A\n",
            " 97%|█████████▋| 1148/1178 [00:58<00:01, 18.73it/s]\u001b[A\n",
            " 98%|█████████▊| 1151/1178 [00:58<00:01, 20.63it/s]\u001b[A\n",
            " 98%|█████████▊| 1154/1178 [00:58<00:01, 20.26it/s]\u001b[A\n",
            " 98%|█████████▊| 1157/1178 [00:58<00:00, 21.25it/s]\u001b[A\n",
            " 98%|█████████▊| 1160/1178 [00:58<00:00, 22.41it/s]\u001b[A\n",
            " 99%|█████████▊| 1163/1178 [00:59<00:00, 21.45it/s]\u001b[A\n",
            " 99%|█████████▉| 1166/1178 [00:59<00:00, 22.39it/s]\u001b[A\n",
            " 99%|█████████▉| 1169/1178 [00:59<00:00, 22.95it/s]\u001b[A\n",
            " 99%|█████████▉| 1172/1178 [00:59<00:00, 22.28it/s]\u001b[A\n",
            "100%|█████████▉| 1175/1178 [00:59<00:00, 22.48it/s]\u001b[A\n",
            "100%|██████████| 1178/1178 [00:59<00:00, 19.74it/s]\n"
          ],
          "name": "stderr"
        }
      ]
    },
    {
      "cell_type": "markdown",
      "metadata": {
        "id": "l28COc24XqLm",
        "colab_type": "text"
      },
      "source": [
        ""
      ]
    },
    {
      "cell_type": "code",
      "metadata": {
        "id": "hfkKNWIVrZ6n",
        "colab_type": "code",
        "outputId": "d3cc1ee3-3233-4f8e-b413-872d28b8880d",
        "colab": {
          "base_uri": "https://localhost:8080/",
          "height": 52
        }
      },
      "source": [
        "X[0]"
      ],
      "execution_count": 36,
      "outputs": [
        {
          "output_type": "execute_result",
          "data": {
            "text/plain": [
              "tensor([ 0.1646, -0.0148, -0.1401,  ..., -0.0009,  0.0132,  0.0247],\n",
              "       device='cuda:0', grad_fn=<SelectBackward>)"
            ]
          },
          "metadata": {
            "tags": []
          },
          "execution_count": 36
        }
      ]
    },
    {
      "cell_type": "code",
      "metadata": {
        "id": "_VeZqBMpcaqC",
        "colab_type": "code",
        "colab": {}
      },
      "source": [
        "X2 = X.cpu().detach().numpy()\n",
        "del(X)\n",
        "torch.cuda.empty_cache()"
      ],
      "execution_count": 0,
      "outputs": []
    },
    {
      "cell_type": "code",
      "metadata": {
        "id": "FyPOdJ2KhL9Y",
        "colab_type": "code",
        "outputId": "07a44fad-28e6-4274-be1a-dd7492ea55b4",
        "colab": {
          "base_uri": "https://localhost:8080/",
          "height": 52
        }
      },
      "source": [
        "X2[0]"
      ],
      "execution_count": 38,
      "outputs": [
        {
          "output_type": "execute_result",
          "data": {
            "text/plain": [
              "array([ 0.16456905, -0.01480661, -0.1401069 , ..., -0.00088907,\n",
              "        0.01319136,  0.02473971], dtype=float32)"
            ]
          },
          "metadata": {
            "tags": []
          },
          "execution_count": 38
        }
      ]
    },
    {
      "cell_type": "code",
      "metadata": {
        "id": "J5Y-hmTZdBEM",
        "colab_type": "code",
        "colab": {}
      },
      "source": [
        "#Clustering\n",
        "from sklearn.decomposition import PCA\n",
        "pca = PCA(n_components=768)\n",
        "X_red = pca.fit_transform(X2)"
      ],
      "execution_count": 0,
      "outputs": []
    },
    {
      "cell_type": "code",
      "metadata": {
        "id": "A7FD3fALfkJR",
        "colab_type": "code",
        "colab": {}
      },
      "source": [
        "PCA_DATA=pd.DataFrame(X_red)"
      ],
      "execution_count": 0,
      "outputs": []
    },
    {
      "cell_type": "code",
      "metadata": {
        "id": "W-x0nL5lf6g2",
        "colab_type": "code",
        "colab": {}
      },
      "source": [
        "PCA_DATA.to_csv('PCA_DATA.csv')\n",
        "files.download('PCA_DATA.csv')"
      ],
      "execution_count": 0,
      "outputs": []
    },
    {
      "cell_type": "code",
      "metadata": {
        "id": "4s0lwoQddIWy",
        "colab_type": "code",
        "colab": {}
      },
      "source": [
        "from sklearn.cluster import AgglomerativeClustering\n",
        "N_CLUSTERS = 5\n",
        "# WARD CLUSTER\n",
        "ward = AgglomerativeClustering(n_clusters=N_CLUSTERS,\n",
        "                               affinity='euclidean',\n",
        "                               linkage='ward')\n",
        "pred_ward = ward.fit_predict(X_red)\n",
        "df['topic'] = pred_ward"
      ],
      "execution_count": 0,
      "outputs": []
    },
    {
      "cell_type": "code",
      "metadata": {
        "id": "qMKxZ5DlgoMC",
        "colab_type": "code",
        "outputId": "ee0d5a36-8b15-4ba4-c468-de83a38681e3",
        "colab": {
          "base_uri": "https://localhost:8080/",
          "height": 121
        }
      },
      "source": [
        "df['topic'].value_counts()"
      ],
      "execution_count": 41,
      "outputs": [
        {
          "output_type": "execute_result",
          "data": {
            "text/plain": [
              "0    647\n",
              "1    252\n",
              "4    168\n",
              "3     60\n",
              "2     51\n",
              "Name: topic, dtype: int64"
            ]
          },
          "metadata": {
            "tags": []
          },
          "execution_count": 41
        }
      ]
    },
    {
      "cell_type": "code",
      "metadata": {
        "id": "YGvkZ3sjgt5l",
        "colab_type": "code",
        "colab": {}
      },
      "source": [
        "#Top terms\n",
        "\n",
        "from sklearn.feature_extraction.text import TfidfVectorizer\n",
        "def get_top_words(documents, top_n):\n",
        "  '''\n",
        "  function to get top tf-idf words and phrases\n",
        "  '''\n",
        "  vectoriser = TfidfVectorizer(ngram_range=(1, 2),\n",
        "                               max_df=0.5)\n",
        "  tfidf_matrix = vectoriser.fit_transform(documents)\n",
        "  feature_names = vectoriser.get_feature_names()\n",
        "  df_tfidf = pd.DataFrame()\n",
        "  for doc in range(len(documents)):\n",
        "    words = []\n",
        "    scores = []\n",
        "    feature_index = tfidf_matrix[doc,:].nonzero()[1]\n",
        "    tfidf_scores = zip(feature_index, [tfidf_matrix[doc, x] for x in feature_index])\n",
        "    for w, s in [(feature_names[i], s) for (i, s) in tfidf_scores]:\n",
        "      words.append(w)\n",
        "      scores.append(s)\n",
        "    df_temp = pd.DataFrame(data={'word':words, 'score':scores})\n",
        "    df_temp = df_temp.sort_values('score',ascending=False).head(top_n)\n",
        "    df_temp['topic'] = doc\n",
        "    df_tfidf = df_tfidf.append(df_temp)\n",
        "  return df_tfidf"
      ],
      "execution_count": 0,
      "outputs": []
    },
    {
      "cell_type": "code",
      "metadata": {
        "id": "XoGkBxSci-eu",
        "colab_type": "code",
        "colab": {}
      },
      "source": [
        "topic_docs = []\n",
        "# group text into topic-documents\n",
        "for topic in range(N_CLUSTERS):\n",
        "    topic_docs.append(' '.join(df[df['topic']==topic]['Suggestions'].values))\n",
        "# apply function\n",
        "df_tfidf = get_top_words(topic_docs, 10)"
      ],
      "execution_count": 0,
      "outputs": []
    },
    {
      "cell_type": "code",
      "metadata": {
        "id": "H0LKq2VDjJ5g",
        "colab_type": "code",
        "outputId": "b4dc7783-7c3e-4bd4-d1f0-4386caf61d60",
        "colab": {
          "base_uri": "https://localhost:8080/",
          "height": 355
        }
      },
      "source": [
        "df_tfidf[df_tfidf['topic']==3].sort_values('score',ascending=False)"
      ],
      "execution_count": 54,
      "outputs": [
        {
          "output_type": "execute_result",
          "data": {
            "text/html": [
              "<div>\n",
              "<style scoped>\n",
              "    .dataframe tbody tr th:only-of-type {\n",
              "        vertical-align: middle;\n",
              "    }\n",
              "\n",
              "    .dataframe tbody tr th {\n",
              "        vertical-align: top;\n",
              "    }\n",
              "\n",
              "    .dataframe thead th {\n",
              "        text-align: right;\n",
              "    }\n",
              "</style>\n",
              "<table border=\"1\" class=\"dataframe\">\n",
              "  <thead>\n",
              "    <tr style=\"text-align: right;\">\n",
              "      <th></th>\n",
              "      <th>word</th>\n",
              "      <th>score</th>\n",
              "      <th>topic</th>\n",
              "    </tr>\n",
              "  </thead>\n",
              "  <tbody>\n",
              "    <tr>\n",
              "      <th>142</th>\n",
              "      <td>question confuse</td>\n",
              "      <td>0.410330</td>\n",
              "      <td>3</td>\n",
              "    </tr>\n",
              "    <tr>\n",
              "      <th>134</th>\n",
              "      <td>confuse question</td>\n",
              "      <td>0.182369</td>\n",
              "      <td>3</td>\n",
              "    </tr>\n",
              "    <tr>\n",
              "      <th>133</th>\n",
              "      <td>repetitive question</td>\n",
              "      <td>0.182369</td>\n",
              "      <td>3</td>\n",
              "    </tr>\n",
              "    <tr>\n",
              "      <th>185</th>\n",
              "      <td>vague</td>\n",
              "      <td>0.182369</td>\n",
              "      <td>3</td>\n",
              "    </tr>\n",
              "    <tr>\n",
              "      <th>164</th>\n",
              "      <td>question vague</td>\n",
              "      <td>0.182369</td>\n",
              "      <td>3</td>\n",
              "    </tr>\n",
              "    <tr>\n",
              "      <th>147</th>\n",
              "      <td>question redundant</td>\n",
              "      <td>0.136777</td>\n",
              "      <td>3</td>\n",
              "    </tr>\n",
              "    <tr>\n",
              "      <th>178</th>\n",
              "      <td>question repetitive</td>\n",
              "      <td>0.136777</td>\n",
              "      <td>3</td>\n",
              "    </tr>\n",
              "    <tr>\n",
              "      <th>176</th>\n",
              "      <td>question seem</td>\n",
              "      <td>0.136777</td>\n",
              "      <td>3</td>\n",
              "    </tr>\n",
              "    <tr>\n",
              "      <th>171</th>\n",
              "      <td>redundant question</td>\n",
              "      <td>0.136777</td>\n",
              "      <td>3</td>\n",
              "    </tr>\n",
              "    <tr>\n",
              "      <th>165</th>\n",
              "      <td>yes question</td>\n",
              "      <td>0.136777</td>\n",
              "      <td>3</td>\n",
              "    </tr>\n",
              "  </tbody>\n",
              "</table>\n",
              "</div>"
            ],
            "text/plain": [
              "                    word     score  topic\n",
              "142     question confuse  0.410330      3\n",
              "134     confuse question  0.182369      3\n",
              "133  repetitive question  0.182369      3\n",
              "185                vague  0.182369      3\n",
              "164       question vague  0.182369      3\n",
              "147   question redundant  0.136777      3\n",
              "178  question repetitive  0.136777      3\n",
              "176        question seem  0.136777      3\n",
              "171   redundant question  0.136777      3\n",
              "165         yes question  0.136777      3"
            ]
          },
          "metadata": {
            "tags": []
          },
          "execution_count": 54
        }
      ]
    },
    {
      "cell_type": "code",
      "metadata": {
        "id": "W0R5a7j9isxW",
        "colab_type": "code",
        "colab": {
          "base_uri": "https://localhost:8080/",
          "height": 355
        },
        "outputId": "52922e42-c3c2-49a5-b85b-859ace174897"
      },
      "source": [
        "df_tfidf[df_tfidf['topic']==1].sort_values('score',ascending=False)"
      ],
      "execution_count": 58,
      "outputs": [
        {
          "output_type": "execute_result",
          "data": {
            "text/html": [
              "<div>\n",
              "<style scoped>\n",
              "    .dataframe tbody tr th:only-of-type {\n",
              "        vertical-align: middle;\n",
              "    }\n",
              "\n",
              "    .dataframe tbody tr th {\n",
              "        vertical-align: top;\n",
              "    }\n",
              "\n",
              "    .dataframe thead th {\n",
              "        text-align: right;\n",
              "    }\n",
              "</style>\n",
              "<table border=\"1\" class=\"dataframe\">\n",
              "  <thead>\n",
              "    <tr style=\"text-align: right;\">\n",
              "      <th></th>\n",
              "      <th>word</th>\n",
              "      <th>score</th>\n",
              "      <th>topic</th>\n",
              "    </tr>\n",
              "  </thead>\n",
              "  <tbody>\n",
              "    <tr>\n",
              "      <th>1412</th>\n",
              "      <td>icons</td>\n",
              "      <td>0.213479</td>\n",
              "      <td>1</td>\n",
              "    </tr>\n",
              "    <tr>\n",
              "      <th>1266</th>\n",
              "      <td>information icons</td>\n",
              "      <td>0.177900</td>\n",
              "      <td>1</td>\n",
              "    </tr>\n",
              "    <tr>\n",
              "      <th>1134</th>\n",
              "      <td>icons work</td>\n",
              "      <td>0.142320</td>\n",
              "      <td>1</td>\n",
              "    </tr>\n",
              "    <tr>\n",
              "      <th>1415</th>\n",
              "      <td>browser</td>\n",
              "      <td>0.124530</td>\n",
              "      <td>1</td>\n",
              "    </tr>\n",
              "    <tr>\n",
              "      <th>1361</th>\n",
              "      <td>chrome</td>\n",
              "      <td>0.124530</td>\n",
              "      <td>1</td>\n",
              "    </tr>\n",
              "    <tr>\n",
              "      <th>1386</th>\n",
              "      <td>load</td>\n",
              "      <td>0.088950</td>\n",
              "      <td>1</td>\n",
              "    </tr>\n",
              "    <tr>\n",
              "      <th>1445</th>\n",
              "      <td>pop</td>\n",
              "      <td>0.088950</td>\n",
              "      <td>1</td>\n",
              "    </tr>\n",
              "    <tr>\n",
              "      <th>1428</th>\n",
              "      <td>areas</td>\n",
              "      <td>0.088950</td>\n",
              "      <td>1</td>\n",
              "    </tr>\n",
              "    <tr>\n",
              "      <th>1434</th>\n",
              "      <td>signature</td>\n",
              "      <td>0.071160</td>\n",
              "      <td>1</td>\n",
              "    </tr>\n",
              "    <tr>\n",
              "      <th>1457</th>\n",
              "      <td>check</td>\n",
              "      <td>0.071160</td>\n",
              "      <td>1</td>\n",
              "    </tr>\n",
              "  </tbody>\n",
              "</table>\n",
              "</div>"
            ],
            "text/plain": [
              "                   word     score  topic\n",
              "1412              icons  0.213479      1\n",
              "1266  information icons  0.177900      1\n",
              "1134         icons work  0.142320      1\n",
              "1415            browser  0.124530      1\n",
              "1361             chrome  0.124530      1\n",
              "1386               load  0.088950      1\n",
              "1445                pop  0.088950      1\n",
              "1428              areas  0.088950      1\n",
              "1434          signature  0.071160      1\n",
              "1457              check  0.071160      1"
            ]
          },
          "metadata": {
            "tags": []
          },
          "execution_count": 58
        }
      ]
    },
    {
      "cell_type": "code",
      "metadata": {
        "id": "WQrdGw8bi7yj",
        "colab_type": "code",
        "colab": {
          "base_uri": "https://localhost:8080/",
          "height": 355
        },
        "outputId": "6b4c51cd-bb4f-4e95-b454-38cf517424a6"
      },
      "source": [
        "df_tfidf[df_tfidf['topic']==0].sort_values('score',ascending=False)"
      ],
      "execution_count": 59,
      "outputs": [
        {
          "output_type": "execute_result",
          "data": {
            "text/html": [
              "<div>\n",
              "<style scoped>\n",
              "    .dataframe tbody tr th:only-of-type {\n",
              "        vertical-align: middle;\n",
              "    }\n",
              "\n",
              "    .dataframe tbody tr th {\n",
              "        vertical-align: top;\n",
              "    }\n",
              "\n",
              "    .dataframe thead th {\n",
              "        text-align: right;\n",
              "    }\n",
              "</style>\n",
              "<table border=\"1\" class=\"dataframe\">\n",
              "  <thead>\n",
              "    <tr style=\"text-align: right;\">\n",
              "      <th></th>\n",
              "      <th>word</th>\n",
              "      <th>score</th>\n",
              "      <th>topic</th>\n",
              "    </tr>\n",
              "  </thead>\n",
              "  <tbody>\n",
              "    <tr>\n",
              "      <th>10006</th>\n",
              "      <td>also</td>\n",
              "      <td>0.222707</td>\n",
              "      <td>0</td>\n",
              "    </tr>\n",
              "    <tr>\n",
              "      <th>9949</th>\n",
              "      <td>visit</td>\n",
              "      <td>0.195829</td>\n",
              "      <td>0</td>\n",
              "    </tr>\n",
              "    <tr>\n",
              "      <th>10063</th>\n",
              "      <td>know</td>\n",
              "      <td>0.168950</td>\n",
              "      <td>0</td>\n",
              "    </tr>\n",
              "    <tr>\n",
              "      <th>9881</th>\n",
              "      <td>example</td>\n",
              "      <td>0.128501</td>\n",
              "      <td>0</td>\n",
              "    </tr>\n",
              "    <tr>\n",
              "      <th>10077</th>\n",
              "      <td>record</td>\n",
              "      <td>0.115193</td>\n",
              "      <td>0</td>\n",
              "    </tr>\n",
              "    <tr>\n",
              "      <th>10061</th>\n",
              "      <td>primary</td>\n",
              "      <td>0.114223</td>\n",
              "      <td>0</td>\n",
              "    </tr>\n",
              "    <tr>\n",
              "      <th>10092</th>\n",
              "      <td>surgery</td>\n",
              "      <td>0.111353</td>\n",
              "      <td>0</td>\n",
              "    </tr>\n",
              "    <tr>\n",
              "      <th>10011</th>\n",
              "      <td>family</td>\n",
              "      <td>0.103674</td>\n",
              "      <td>0</td>\n",
              "    </tr>\n",
              "    <tr>\n",
              "      <th>10046</th>\n",
              "      <td>check</td>\n",
              "      <td>0.103674</td>\n",
              "      <td>0</td>\n",
              "    </tr>\n",
              "    <tr>\n",
              "      <th>10065</th>\n",
              "      <td>physician</td>\n",
              "      <td>0.099945</td>\n",
              "      <td>0</td>\n",
              "    </tr>\n",
              "  </tbody>\n",
              "</table>\n",
              "</div>"
            ],
            "text/plain": [
              "            word     score  topic\n",
              "10006       also  0.222707      0\n",
              "9949       visit  0.195829      0\n",
              "10063       know  0.168950      0\n",
              "9881     example  0.128501      0\n",
              "10077     record  0.115193      0\n",
              "10061    primary  0.114223      0\n",
              "10092    surgery  0.111353      0\n",
              "10011     family  0.103674      0\n",
              "10046      check  0.103674      0\n",
              "10065  physician  0.099945      0"
            ]
          },
          "metadata": {
            "tags": []
          },
          "execution_count": 59
        }
      ]
    },
    {
      "cell_type": "code",
      "metadata": {
        "id": "uIFCNs7DmHKy",
        "colab_type": "code",
        "colab": {
          "base_uri": "https://localhost:8080/",
          "height": 202
        },
        "outputId": "0381bd60-a9fa-48b8-ee2f-822b029e6612"
      },
      "source": [
        "df.head()"
      ],
      "execution_count": 66,
      "outputs": [
        {
          "output_type": "execute_result",
          "data": {
            "text/html": [
              "<div>\n",
              "<style scoped>\n",
              "    .dataframe tbody tr th:only-of-type {\n",
              "        vertical-align: middle;\n",
              "    }\n",
              "\n",
              "    .dataframe tbody tr th {\n",
              "        vertical-align: top;\n",
              "    }\n",
              "\n",
              "    .dataframe thead th {\n",
              "        text-align: right;\n",
              "    }\n",
              "</style>\n",
              "<table border=\"1\" class=\"dataframe\">\n",
              "  <thead>\n",
              "    <tr style=\"text-align: right;\">\n",
              "      <th></th>\n",
              "      <th>Suggestions</th>\n",
              "      <th>topic</th>\n",
              "    </tr>\n",
              "  </thead>\n",
              "  <tbody>\n",
              "    <tr>\n",
              "      <th>0</th>\n",
              "      <td>question repetitive result duplicate answer</td>\n",
              "      <td>0</td>\n",
              "    </tr>\n",
              "    <tr>\n",
              "      <th>1</th>\n",
              "      <td>felt like repetitive would faster talk someone...</td>\n",
              "      <td>4</td>\n",
              "    </tr>\n",
              "    <tr>\n",
              "      <th>2</th>\n",
              "      <td>mri later knee surgery two different instance ...</td>\n",
              "      <td>0</td>\n",
              "    </tr>\n",
              "    <tr>\n",
              "      <th>3</th>\n",
              "      <td>question apply</td>\n",
              "      <td>1</td>\n",
              "    </tr>\n",
              "    <tr>\n",
              "      <th>4</th>\n",
              "      <td>hat experience try capture detail interface fr...</td>\n",
              "      <td>1</td>\n",
              "    </tr>\n",
              "  </tbody>\n",
              "</table>\n",
              "</div>"
            ],
            "text/plain": [
              "                                         Suggestions  topic\n",
              "0       question repetitive result duplicate answer       0\n",
              "1  felt like repetitive would faster talk someone...      4\n",
              "2  mri later knee surgery two different instance ...      0\n",
              "3                                    question apply       1\n",
              "4  hat experience try capture detail interface fr...      1"
            ]
          },
          "metadata": {
            "tags": []
          },
          "execution_count": 66
        }
      ]
    },
    {
      "cell_type": "code",
      "metadata": {
        "id": "m2JZpZwwmRtr",
        "colab_type": "code",
        "colab": {}
      },
      "source": [
        "df.reset_index(inplace=True)"
      ],
      "execution_count": 0,
      "outputs": []
    },
    {
      "cell_type": "code",
      "metadata": {
        "id": "lhTGZqCb4Wt8",
        "colab_type": "code",
        "outputId": "76f290c5-4b78-4192-ac0c-c4693f0c563d",
        "colab": {
          "base_uri": "https://localhost:8080/",
          "height": 52
        }
      },
      "source": [
        "#Topic Compactness\n",
        "\n",
        "topic_centroids = []\n",
        "for topic in tqdm(range(N_CLUSTERS)):\n",
        "    X_topic = X_red[df.index[df['topic']==topic]]\n",
        "    X_mean = np.mean(X_topic, axis=0)\n",
        "    topic_centroids.append(X_mean)"
      ],
      "execution_count": 70,
      "outputs": [
        {
          "output_type": "stream",
          "text": [
            "\n",
            "100%|██████████| 5/5 [00:00<00:00, 342.45it/s]\n"
          ],
          "name": "stderr"
        }
      ]
    },
    {
      "cell_type": "code",
      "metadata": {
        "id": "puZO0im9YAxv",
        "colab_type": "code",
        "outputId": "6ad83c6c-c505-4c81-ec13-3a13c2fdfe47",
        "colab": {
          "base_uri": "https://localhost:8080/",
          "height": 104
        }
      },
      "source": [
        "from scipy.spatial.distance import euclidean\n",
        "topic_distances = []\n",
        "for row in tqdm(df.index):\n",
        "    topic_centroid = topic_centroids[df.iloc[row]['topic']]\n",
        "    X_row = X_red[row]\n",
        "    topic_distance = euclidean(topic_centroid, X_row)\n",
        "    topic_distances.append(topic_distance)\n",
        "    \n",
        "df['topic_distance'] = topic_distances"
      ],
      "execution_count": 71,
      "outputs": [
        {
          "output_type": "stream",
          "text": [
            "\n",
            "  0%|          | 0/1178 [00:00<?, ?it/s]\u001b[A\n",
            " 24%|██▍       | 288/1178 [00:00<00:00, 2879.36it/s]\u001b[A\n",
            " 50%|█████     | 593/1178 [00:00<00:00, 2925.99it/s]\u001b[A\n",
            "100%|██████████| 1178/1178 [00:00<00:00, 3036.66it/s]\n"
          ],
          "name": "stderr"
        }
      ]
    },
    {
      "cell_type": "code",
      "metadata": {
        "id": "QYcpZjNQYfLf",
        "colab_type": "code",
        "outputId": "9ed667bd-8dfe-43f9-dfda-41c521f753f6",
        "colab": {
          "base_uri": "https://localhost:8080/",
          "height": 202
        }
      },
      "source": [
        "df.head()"
      ],
      "execution_count": 72,
      "outputs": [
        {
          "output_type": "execute_result",
          "data": {
            "text/html": [
              "<div>\n",
              "<style scoped>\n",
              "    .dataframe tbody tr th:only-of-type {\n",
              "        vertical-align: middle;\n",
              "    }\n",
              "\n",
              "    .dataframe tbody tr th {\n",
              "        vertical-align: top;\n",
              "    }\n",
              "\n",
              "    .dataframe thead th {\n",
              "        text-align: right;\n",
              "    }\n",
              "</style>\n",
              "<table border=\"1\" class=\"dataframe\">\n",
              "  <thead>\n",
              "    <tr style=\"text-align: right;\">\n",
              "      <th></th>\n",
              "      <th>index</th>\n",
              "      <th>Suggestions</th>\n",
              "      <th>topic</th>\n",
              "      <th>topic_distance</th>\n",
              "    </tr>\n",
              "  </thead>\n",
              "  <tbody>\n",
              "    <tr>\n",
              "      <th>0</th>\n",
              "      <td>0</td>\n",
              "      <td>question repetitive result duplicate answer</td>\n",
              "      <td>0</td>\n",
              "      <td>17.975948</td>\n",
              "    </tr>\n",
              "    <tr>\n",
              "      <th>1</th>\n",
              "      <td>1</td>\n",
              "      <td>felt like repetitive would faster talk someone...</td>\n",
              "      <td>4</td>\n",
              "      <td>16.015860</td>\n",
              "    </tr>\n",
              "    <tr>\n",
              "      <th>2</th>\n",
              "      <td>2</td>\n",
              "      <td>mri later knee surgery two different instance ...</td>\n",
              "      <td>0</td>\n",
              "      <td>15.940362</td>\n",
              "    </tr>\n",
              "    <tr>\n",
              "      <th>3</th>\n",
              "      <td>3</td>\n",
              "      <td>question apply</td>\n",
              "      <td>1</td>\n",
              "      <td>22.543333</td>\n",
              "    </tr>\n",
              "    <tr>\n",
              "      <th>4</th>\n",
              "      <td>4</td>\n",
              "      <td>hat experience try capture detail interface fr...</td>\n",
              "      <td>1</td>\n",
              "      <td>16.312021</td>\n",
              "    </tr>\n",
              "  </tbody>\n",
              "</table>\n",
              "</div>"
            ],
            "text/plain": [
              "   index  ... topic_distance\n",
              "0      0  ...      17.975948\n",
              "1      1  ...      16.015860\n",
              "2      2  ...      15.940362\n",
              "3      3  ...      22.543333\n",
              "4      4  ...      16.312021\n",
              "\n",
              "[5 rows x 4 columns]"
            ]
          },
          "metadata": {
            "tags": []
          },
          "execution_count": 72
        }
      ]
    },
    {
      "cell_type": "code",
      "metadata": {
        "id": "ddFtWnfjm84m",
        "colab_type": "code",
        "colab": {
          "base_uri": "https://localhost:8080/",
          "height": 297
        },
        "outputId": "fd4ab4fa-ee6d-4b8a-ed88-d69c47261beb"
      },
      "source": [
        "sns.distplot(df[df['topic']==3]['topic_distance'])"
      ],
      "execution_count": 80,
      "outputs": [
        {
          "output_type": "execute_result",
          "data": {
            "text/plain": [
              "<matplotlib.axes._subplots.AxesSubplot at 0x7f2ede89c198>"
            ]
          },
          "metadata": {
            "tags": []
          },
          "execution_count": 80
        },
        {
          "output_type": "display_data",
          "data": {
            "image/png": "[encoded data removed]",
            "text/plain": [
              "<Figure size 432x288 with 1 Axes>"
            ]
          },
          "metadata": {
            "tags": [],
            "needs_background": "light"
          }
        }
      ]
    },
    {
      "cell_type": "code",
      "metadata": {
        "id": "J8sNN8kKYiTQ",
        "colab_type": "code",
        "colab": {}
      },
      "source": [
        "#Topic Similarity\n",
        "\n",
        "from scipy.spatial import distance_matrix\n",
        "df_dist_matrix = pd.DataFrame(distance_matrix(topic_centroids,\n",
        "                                              topic_centroids),\n",
        "                              index=range(N_CLUSTERS),\n",
        "                              columns=range(N_CLUSTERS))"
      ],
      "execution_count": 0,
      "outputs": []
    },
    {
      "cell_type": "code",
      "metadata": {
        "id": "npad-XE8Y_vj",
        "colab_type": "code",
        "outputId": "208d24c2-3f79-4471-b349-e48d78e143db",
        "colab": {
          "base_uri": "https://localhost:8080/",
          "height": 202
        }
      },
      "source": [
        "df_dist_matrix.head()"
      ],
      "execution_count": 82,
      "outputs": [
        {
          "output_type": "execute_result",
          "data": {
            "text/html": [
              "<div>\n",
              "<style scoped>\n",
              "    .dataframe tbody tr th:only-of-type {\n",
              "        vertical-align: middle;\n",
              "    }\n",
              "\n",
              "    .dataframe tbody tr th {\n",
              "        vertical-align: top;\n",
              "    }\n",
              "\n",
              "    .dataframe thead th {\n",
              "        text-align: right;\n",
              "    }\n",
              "</style>\n",
              "<table border=\"1\" class=\"dataframe\">\n",
              "  <thead>\n",
              "    <tr style=\"text-align: right;\">\n",
              "      <th></th>\n",
              "      <th>0</th>\n",
              "      <th>1</th>\n",
              "      <th>2</th>\n",
              "      <th>3</th>\n",
              "      <th>4</th>\n",
              "    </tr>\n",
              "  </thead>\n",
              "  <tbody>\n",
              "    <tr>\n",
              "      <th>0</th>\n",
              "      <td>0.000000</td>\n",
              "      <td>8.453363</td>\n",
              "      <td>19.245181</td>\n",
              "      <td>12.634516</td>\n",
              "      <td>6.280608</td>\n",
              "    </tr>\n",
              "    <tr>\n",
              "      <th>1</th>\n",
              "      <td>8.453363</td>\n",
              "      <td>0.000000</td>\n",
              "      <td>13.553053</td>\n",
              "      <td>10.563915</td>\n",
              "      <td>8.632126</td>\n",
              "    </tr>\n",
              "    <tr>\n",
              "      <th>2</th>\n",
              "      <td>19.245181</td>\n",
              "      <td>13.553053</td>\n",
              "      <td>0.000000</td>\n",
              "      <td>15.244542</td>\n",
              "      <td>18.522493</td>\n",
              "    </tr>\n",
              "    <tr>\n",
              "      <th>3</th>\n",
              "      <td>12.634516</td>\n",
              "      <td>10.563915</td>\n",
              "      <td>15.244542</td>\n",
              "      <td>0.000000</td>\n",
              "      <td>13.170784</td>\n",
              "    </tr>\n",
              "    <tr>\n",
              "      <th>4</th>\n",
              "      <td>6.280608</td>\n",
              "      <td>8.632126</td>\n",
              "      <td>18.522493</td>\n",
              "      <td>13.170784</td>\n",
              "      <td>0.000000</td>\n",
              "    </tr>\n",
              "  </tbody>\n",
              "</table>\n",
              "</div>"
            ],
            "text/plain": [
              "           0          1          2          3          4\n",
              "0   0.000000   8.453363  19.245181  12.634516   6.280608\n",
              "1   8.453363   0.000000  13.553053  10.563915   8.632126\n",
              "2  19.245181  13.553053   0.000000  15.244542  18.522493\n",
              "3  12.634516  10.563915  15.244542   0.000000  13.170784\n",
              "4   6.280608   8.632126  18.522493  13.170784   0.000000"
            ]
          },
          "metadata": {
            "tags": []
          },
          "execution_count": 82
        }
      ]
    },
    {
      "cell_type": "code",
      "metadata": {
        "id": "inYEECVrZONW",
        "colab_type": "code",
        "colab": {}
      },
      "source": [
        ""
      ],
      "execution_count": 0,
      "outputs": []
    }
  ]
}